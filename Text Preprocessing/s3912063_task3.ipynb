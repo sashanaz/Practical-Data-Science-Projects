{
 "cells": [
  {
   "cell_type": "markdown",
   "metadata": {},
   "source": [
    "# Assignment 1: Data Parsing, Cleansing and Integration\n",
    "## Task 3\n",
    "#### Student Name: Sasha Nazareth\n",
    "#### Student ID: 3912063\n",
    "\n",
    "Date: 17th August, 2022\n",
    "\n",
    "Version: 3.0\n",
    "\n",
    "Environment: Python 3 and Jupyter notebook\n",
    "\n",
    "Libraries used: please include the main libraries you used in your assignment, e.g.,:\n",
    "* pandas\n",
    "* re\n",
    "* numpy\n",
    "\n",
    "\n",
    "## Introduction\n",
    "Give general information of this assessment here, e.g., what problems you encounter in integration, general steps and solutions you've taken to integrate the data. \n",
    "\n",
    "<span style=\"color: red\"> Note that this is a sample notebook only. You will need to fill in the proper markdown and code blocks. You might also want to make necessary changes to the structure to meet your own needs. Note also that any generic comments written in this notebook are to be removed and replace with your own words.</span>\n"
   ]
  },
  {
   "cell_type": "markdown",
   "metadata": {},
   "source": [
    "##  Import libraries "
   ]
  },
  {
   "cell_type": "code",
   "execution_count": 1,
   "metadata": {},
   "outputs": [],
   "source": [
    "import pandas as pd\n",
    "import numpy as np\n",
    "import re"
   ]
  },
  {
   "cell_type": "markdown",
   "metadata": {},
   "source": [
    "### 1. Examining and loading data"
   ]
  },
  {
   "cell_type": "code",
   "execution_count": 2,
   "metadata": {},
   "outputs": [],
   "source": [
    "# Loading both the csv's and comparing them first\n",
    "\n",
    "df1 = pd.read_csv('s3912063_dataset1_solution.csv')\n",
    "df2 = pd.read_csv('s3912063_dataset2.csv')"
   ]
  },
  {
   "cell_type": "code",
   "execution_count": 3,
   "metadata": {},
   "outputs": [
    {
     "data": {
      "text/html": [
       "<div>\n",
       "<style scoped>\n",
       "    .dataframe tbody tr th:only-of-type {\n",
       "        vertical-align: middle;\n",
       "    }\n",
       "\n",
       "    .dataframe tbody tr th {\n",
       "        vertical-align: top;\n",
       "    }\n",
       "\n",
       "    .dataframe thead th {\n",
       "        text-align: right;\n",
       "    }\n",
       "</style>\n",
       "<table border=\"1\" class=\"dataframe\">\n",
       "  <thead>\n",
       "    <tr style=\"text-align: right;\">\n",
       "      <th></th>\n",
       "      <th>Location</th>\n",
       "      <th>Job Title</th>\n",
       "      <th>Monthly Payment</th>\n",
       "      <th>Closing</th>\n",
       "      <th>Category</th>\n",
       "      <th>Type</th>\n",
       "      <th>Opening</th>\n",
       "      <th>Organisation</th>\n",
       "      <th>Full-Time Equivalent (FTE)</th>\n",
       "    </tr>\n",
       "  </thead>\n",
       "  <tbody>\n",
       "    <tr>\n",
       "      <th>0</th>\n",
       "      <td>Berkshire</td>\n",
       "      <td>Lead CRA UK</td>\n",
       "      <td>4583.33</td>\n",
       "      <td>2012-03-08 12:00:00</td>\n",
       "      <td>Health</td>\n",
       "      <td>NaN</td>\n",
       "      <td>2012-01-08 12:00:00</td>\n",
       "      <td>SEC Recruitment</td>\n",
       "      <td>1.0</td>\n",
       "    </tr>\n",
       "    <tr>\n",
       "      <th>1</th>\n",
       "      <td>Bristol</td>\n",
       "      <td>Possession Manager</td>\n",
       "      <td>2812.50</td>\n",
       "      <td>2013-09-06 12:00:00</td>\n",
       "      <td>Engineering</td>\n",
       "      <td>Permanent</td>\n",
       "      <td>2013-08-07 12:00:00</td>\n",
       "      <td>Navartis Limited</td>\n",
       "      <td>1.0</td>\n",
       "    </tr>\n",
       "    <tr>\n",
       "      <th>2</th>\n",
       "      <td>Coventry</td>\n",
       "      <td>NVQ Assessor Banking/Financial Services Salary...</td>\n",
       "      <td>1791.67</td>\n",
       "      <td>2013-05-02 00:00:00</td>\n",
       "      <td>Hospitality</td>\n",
       "      <td>Permanent</td>\n",
       "      <td>2013-02-01 00:00:00</td>\n",
       "      <td>Pertemps</td>\n",
       "      <td>1.0</td>\n",
       "    </tr>\n",
       "    <tr>\n",
       "      <th>3</th>\n",
       "      <td>Poole</td>\n",
       "      <td>HEAD OF CARE (RGN/RMN)  Poole</td>\n",
       "      <td>2916.67</td>\n",
       "      <td>2013-09-24 15:00:00</td>\n",
       "      <td>Health</td>\n",
       "      <td>NaN</td>\n",
       "      <td>2013-07-26 15:00:00</td>\n",
       "      <td>Team 24 Ltd</td>\n",
       "      <td>1.0</td>\n",
       "    </tr>\n",
       "    <tr>\n",
       "      <th>4</th>\n",
       "      <td>Woking</td>\n",
       "      <td>SQL Server DBA</td>\n",
       "      <td>3125.00</td>\n",
       "      <td>2012-12-21 12:00:00</td>\n",
       "      <td>Information Technology</td>\n",
       "      <td>NaN</td>\n",
       "      <td>2012-11-21 12:00:00</td>\n",
       "      <td>Matchtech</td>\n",
       "      <td>1.0</td>\n",
       "    </tr>\n",
       "    <tr>\n",
       "      <th>...</th>\n",
       "      <td>...</td>\n",
       "      <td>...</td>\n",
       "      <td>...</td>\n",
       "      <td>...</td>\n",
       "      <td>...</td>\n",
       "      <td>...</td>\n",
       "      <td>...</td>\n",
       "      <td>...</td>\n",
       "      <td>...</td>\n",
       "    </tr>\n",
       "    <tr>\n",
       "      <th>4995</th>\n",
       "      <td>Wirral</td>\n",
       "      <td>Registered General Nurse  Upton, Wirral</td>\n",
       "      <td>2028.00</td>\n",
       "      <td>2014-01-08 00:00:00</td>\n",
       "      <td>Health</td>\n",
       "      <td>NaN</td>\n",
       "      <td>2013-12-25 00:00:00</td>\n",
       "      <td>Time Recruitment Solutions Ltd</td>\n",
       "      <td>1.0</td>\n",
       "    </tr>\n",
       "    <tr>\n",
       "      <th>4996</th>\n",
       "      <td>South East London</td>\n",
       "      <td>2nd line support Technician  Mac specialised</td>\n",
       "      <td>2625.00</td>\n",
       "      <td>2012-04-14 15:00:00</td>\n",
       "      <td>Information Technology</td>\n",
       "      <td>Permanent</td>\n",
       "      <td>2012-01-15 15:00:00</td>\n",
       "      <td>Amsys</td>\n",
       "      <td>1.0</td>\n",
       "    </tr>\n",
       "    <tr>\n",
       "      <th>4997</th>\n",
       "      <td>Boldon Colliery</td>\n",
       "      <td>Maintenance Control Engineer</td>\n",
       "      <td>3833.33</td>\n",
       "      <td>2013-06-11 12:00:00</td>\n",
       "      <td>Engineering</td>\n",
       "      <td>Permanent</td>\n",
       "      <td>2013-05-12 12:00:00</td>\n",
       "      <td>UKStaffsearch</td>\n",
       "      <td>1.0</td>\n",
       "    </tr>\n",
       "    <tr>\n",
       "      <th>4998</th>\n",
       "      <td>Hertfordshire</td>\n",
       "      <td>Pastry Sous Chef  Top Hotel  High Volume Pastr...</td>\n",
       "      <td>2250.00</td>\n",
       "      <td>2013-12-28 15:00:00</td>\n",
       "      <td>Hospitality</td>\n",
       "      <td>NaN</td>\n",
       "      <td>2013-11-28 15:00:00</td>\n",
       "      <td>Chef Results</td>\n",
       "      <td>1.0</td>\n",
       "    </tr>\n",
       "    <tr>\n",
       "      <th>4999</th>\n",
       "      <td>Reading</td>\n",
       "      <td>Bilingual Technical / Remote Support engineer/...</td>\n",
       "      <td>3041.67</td>\n",
       "      <td>2013-05-16 00:00:00</td>\n",
       "      <td>Information Technology</td>\n",
       "      <td>Permanent</td>\n",
       "      <td>2013-04-16 00:00:00</td>\n",
       "      <td>Global Technology Solutions Ltd</td>\n",
       "      <td>1.0</td>\n",
       "    </tr>\n",
       "  </tbody>\n",
       "</table>\n",
       "<p>5000 rows × 9 columns</p>\n",
       "</div>"
      ],
      "text/plain": [
       "               Location                                          Job Title  \\\n",
       "0             Berkshire                                        Lead CRA UK   \n",
       "1               Bristol                                 Possession Manager   \n",
       "2              Coventry  NVQ Assessor Banking/Financial Services Salary...   \n",
       "3                 Poole                      HEAD OF CARE (RGN/RMN)  Poole   \n",
       "4                Woking                                     SQL Server DBA   \n",
       "...                 ...                                                ...   \n",
       "4995             Wirral            Registered General Nurse  Upton, Wirral   \n",
       "4996  South East London       2nd line support Technician  Mac specialised   \n",
       "4997    Boldon Colliery                       Maintenance Control Engineer   \n",
       "4998      Hertfordshire  Pastry Sous Chef  Top Hotel  High Volume Pastr...   \n",
       "4999            Reading  Bilingual Technical / Remote Support engineer/...   \n",
       "\n",
       "      Monthly Payment              Closing                Category       Type  \\\n",
       "0             4583.33  2012-03-08 12:00:00                  Health        NaN   \n",
       "1             2812.50  2013-09-06 12:00:00             Engineering  Permanent   \n",
       "2             1791.67  2013-05-02 00:00:00             Hospitality  Permanent   \n",
       "3             2916.67  2013-09-24 15:00:00                  Health        NaN   \n",
       "4             3125.00  2012-12-21 12:00:00  Information Technology        NaN   \n",
       "...               ...                  ...                     ...        ...   \n",
       "4995          2028.00  2014-01-08 00:00:00                  Health        NaN   \n",
       "4996          2625.00  2012-04-14 15:00:00  Information Technology  Permanent   \n",
       "4997          3833.33  2013-06-11 12:00:00             Engineering  Permanent   \n",
       "4998          2250.00  2013-12-28 15:00:00             Hospitality        NaN   \n",
       "4999          3041.67  2013-05-16 00:00:00  Information Technology  Permanent   \n",
       "\n",
       "                  Opening                     Organisation  \\\n",
       "0     2012-01-08 12:00:00                  SEC Recruitment   \n",
       "1     2013-08-07 12:00:00                 Navartis Limited   \n",
       "2     2013-02-01 00:00:00                         Pertemps   \n",
       "3     2013-07-26 15:00:00                      Team 24 Ltd   \n",
       "4     2012-11-21 12:00:00                        Matchtech   \n",
       "...                   ...                              ...   \n",
       "4995  2013-12-25 00:00:00   Time Recruitment Solutions Ltd   \n",
       "4996  2012-01-15 15:00:00                            Amsys   \n",
       "4997  2013-05-12 12:00:00                    UKStaffsearch   \n",
       "4998  2013-11-28 15:00:00                     Chef Results   \n",
       "4999  2013-04-16 00:00:00  Global Technology Solutions Ltd   \n",
       "\n",
       "      Full-Time Equivalent (FTE)  \n",
       "0                            1.0  \n",
       "1                            1.0  \n",
       "2                            1.0  \n",
       "3                            1.0  \n",
       "4                            1.0  \n",
       "...                          ...  \n",
       "4995                         1.0  \n",
       "4996                         1.0  \n",
       "4997                         1.0  \n",
       "4998                         1.0  \n",
       "4999                         1.0  \n",
       "\n",
       "[5000 rows x 9 columns]"
      ]
     },
     "execution_count": 3,
     "metadata": {},
     "output_type": "execute_result"
    }
   ],
   "source": [
    "df2"
   ]
  },
  {
   "cell_type": "code",
   "execution_count": 4,
   "metadata": {},
   "outputs": [
    {
     "data": {
      "text/plain": [
       "UK                   753\n",
       "London               660\n",
       "South East London    248\n",
       "The City             101\n",
       "Manchester            75\n",
       "                    ... \n",
       "Melton Mowbray         1\n",
       "Arundel                1\n",
       "Gerrards Cross         1\n",
       "Newton Abbot           1\n",
       "Morpeth                1\n",
       "Name: Location, Length: 431, dtype: int64"
      ]
     },
     "execution_count": 4,
     "metadata": {},
     "output_type": "execute_result"
    }
   ],
   "source": [
    "df2['Location'].value_counts()"
   ]
  },
  {
   "cell_type": "code",
   "execution_count": 5,
   "metadata": {},
   "outputs": [
    {
     "data": {
      "text/plain": [
       "Peripatetic / Relief Manager Nursing Homes London        1\n",
       "Direct Reinsurance Technical Underwriting Assistant      1\n",
       "WLAN Network Security Consultant                         1\n",
       "Foundry Worker                                           1\n",
       "Sales Relationship Manager                               1\n",
       "                                                        ..\n",
       "Accounts Junior (Part AAT Q)                             1\n",
       "Customer Consultant                                      1\n",
       "Brand New Office Opening  Sales and Customer Services    1\n",
       "Senior Staff Nurse, HDU Lead  Dorchester                 1\n",
       "Spa Therapists  Casual                                   1\n",
       "Name: Job Title, Length: 5000, dtype: int64"
      ]
     },
     "execution_count": 5,
     "metadata": {},
     "output_type": "execute_result"
    }
   ],
   "source": [
    "df2['Job Title'].value_counts()"
   ]
  },
  {
   "cell_type": "code",
   "execution_count": 6,
   "metadata": {},
   "outputs": [
    {
     "name": "stdout",
     "output_type": "stream",
     "text": [
      "S1:(50751, 11)\n"
     ]
    },
    {
     "data": {
      "text/html": [
       "<div>\n",
       "<style scoped>\n",
       "    .dataframe tbody tr th:only-of-type {\n",
       "        vertical-align: middle;\n",
       "    }\n",
       "\n",
       "    .dataframe tbody tr th {\n",
       "        vertical-align: top;\n",
       "    }\n",
       "\n",
       "    .dataframe thead th {\n",
       "        text-align: right;\n",
       "    }\n",
       "</style>\n",
       "<table border=\"1\" class=\"dataframe\">\n",
       "  <thead>\n",
       "    <tr style=\"text-align: right;\">\n",
       "      <th></th>\n",
       "      <th>Id</th>\n",
       "      <th>Title</th>\n",
       "      <th>Category</th>\n",
       "      <th>Open date</th>\n",
       "      <th>Close date</th>\n",
       "      <th>Company</th>\n",
       "      <th>ContractTime</th>\n",
       "      <th>ContractType</th>\n",
       "      <th>Location</th>\n",
       "      <th>Salary</th>\n",
       "      <th>Source</th>\n",
       "    </tr>\n",
       "  </thead>\n",
       "  <tbody>\n",
       "    <tr>\n",
       "      <th>0</th>\n",
       "      <td>69001361</td>\n",
       "      <td>CHEF DE PARTIE M STAR COTSWOLDS ****K  MANY BE...</td>\n",
       "      <td>Hospitality &amp; Catering Jobs</td>\n",
       "      <td>2013-07-14 12:00:00</td>\n",
       "      <td>2013-09-12 12:00:00</td>\n",
       "      <td>Gladstone Park Limited</td>\n",
       "      <td>permanent</td>\n",
       "      <td>non-specified</td>\n",
       "      <td>Gloucestershire</td>\n",
       "      <td>17000.0</td>\n",
       "      <td>cv-library.co.uk</td>\n",
       "    </tr>\n",
       "    <tr>\n",
       "      <th>1</th>\n",
       "      <td>69540246</td>\n",
       "      <td>Sales Manager Flooring / Interior Furnishings</td>\n",
       "      <td>Sales Jobs</td>\n",
       "      <td>2012-10-08 00:00:00</td>\n",
       "      <td>2012-12-07 00:00:00</td>\n",
       "      <td>Mitchel Maguire</td>\n",
       "      <td>permanent</td>\n",
       "      <td>non-specified</td>\n",
       "      <td>Manchester</td>\n",
       "      <td>32500.0</td>\n",
       "      <td>cv-library.co.uk</td>\n",
       "    </tr>\n",
       "    <tr>\n",
       "      <th>2</th>\n",
       "      <td>71369140</td>\n",
       "      <td>Projects Engineer  Mechanical Handling</td>\n",
       "      <td>Engineering Jobs</td>\n",
       "      <td>2012-05-14 00:00:00</td>\n",
       "      <td>2012-07-13 00:00:00</td>\n",
       "      <td>Doyen Resources Limited</td>\n",
       "      <td>permanent</td>\n",
       "      <td>non-specified</td>\n",
       "      <td>Gloucester</td>\n",
       "      <td>30000.0</td>\n",
       "      <td>cv-library.co.uk</td>\n",
       "    </tr>\n",
       "    <tr>\n",
       "      <th>3</th>\n",
       "      <td>70607805</td>\n",
       "      <td>Coded Welder / Fabricators</td>\n",
       "      <td>Engineering Jobs</td>\n",
       "      <td>2013-03-20 15:00:00</td>\n",
       "      <td>2013-04-19 15:00:00</td>\n",
       "      <td>ACER</td>\n",
       "      <td>contract</td>\n",
       "      <td>non-specified</td>\n",
       "      <td>Blackpool</td>\n",
       "      <td>26880.0</td>\n",
       "      <td>cv-library.co.uk</td>\n",
       "    </tr>\n",
       "    <tr>\n",
       "      <th>4</th>\n",
       "      <td>69750692</td>\n",
       "      <td>Events Coordinator Administration Support</td>\n",
       "      <td>PR, Advertising &amp; Marketing Jobs</td>\n",
       "      <td>2013-12-15 00:00:00</td>\n",
       "      <td>2014-02-13 00:00:00</td>\n",
       "      <td>AJ Chambers</td>\n",
       "      <td>permanent</td>\n",
       "      <td>non-specified</td>\n",
       "      <td>Basildon</td>\n",
       "      <td>22500.0</td>\n",
       "      <td>cv-library.co.uk</td>\n",
       "    </tr>\n",
       "  </tbody>\n",
       "</table>\n",
       "</div>"
      ],
      "text/plain": [
       "         Id                                              Title  \\\n",
       "0  69001361  CHEF DE PARTIE M STAR COTSWOLDS ****K  MANY BE...   \n",
       "1  69540246      Sales Manager Flooring / Interior Furnishings   \n",
       "2  71369140             Projects Engineer  Mechanical Handling   \n",
       "3  70607805                         Coded Welder / Fabricators   \n",
       "4  69750692          Events Coordinator Administration Support   \n",
       "\n",
       "                           Category            Open date           Close date  \\\n",
       "0       Hospitality & Catering Jobs  2013-07-14 12:00:00  2013-09-12 12:00:00   \n",
       "1                        Sales Jobs  2012-10-08 00:00:00  2012-12-07 00:00:00   \n",
       "2                  Engineering Jobs  2012-05-14 00:00:00  2012-07-13 00:00:00   \n",
       "3                  Engineering Jobs  2013-03-20 15:00:00  2013-04-19 15:00:00   \n",
       "4  PR, Advertising & Marketing Jobs  2013-12-15 00:00:00  2014-02-13 00:00:00   \n",
       "\n",
       "                   Company ContractTime   ContractType         Location  \\\n",
       "0   Gladstone Park Limited    permanent  non-specified  Gloucestershire   \n",
       "1          Mitchel Maguire    permanent  non-specified       Manchester   \n",
       "2  Doyen Resources Limited    permanent  non-specified       Gloucester   \n",
       "3                     ACER     contract  non-specified        Blackpool   \n",
       "4              AJ Chambers    permanent  non-specified         Basildon   \n",
       "\n",
       "    Salary            Source  \n",
       "0  17000.0  cv-library.co.uk  \n",
       "1  32500.0  cv-library.co.uk  \n",
       "2  30000.0  cv-library.co.uk  \n",
       "3  26880.0  cv-library.co.uk  \n",
       "4  22500.0  cv-library.co.uk  "
      ]
     },
     "metadata": {},
     "output_type": "display_data"
    },
    {
     "name": "stdout",
     "output_type": "stream",
     "text": [
      "S2:(5000, 9)\n"
     ]
    },
    {
     "data": {
      "text/html": [
       "<div>\n",
       "<style scoped>\n",
       "    .dataframe tbody tr th:only-of-type {\n",
       "        vertical-align: middle;\n",
       "    }\n",
       "\n",
       "    .dataframe tbody tr th {\n",
       "        vertical-align: top;\n",
       "    }\n",
       "\n",
       "    .dataframe thead th {\n",
       "        text-align: right;\n",
       "    }\n",
       "</style>\n",
       "<table border=\"1\" class=\"dataframe\">\n",
       "  <thead>\n",
       "    <tr style=\"text-align: right;\">\n",
       "      <th></th>\n",
       "      <th>Location</th>\n",
       "      <th>Job Title</th>\n",
       "      <th>Monthly Payment</th>\n",
       "      <th>Closing</th>\n",
       "      <th>Category</th>\n",
       "      <th>Type</th>\n",
       "      <th>Opening</th>\n",
       "      <th>Organisation</th>\n",
       "      <th>Full-Time Equivalent (FTE)</th>\n",
       "    </tr>\n",
       "  </thead>\n",
       "  <tbody>\n",
       "    <tr>\n",
       "      <th>0</th>\n",
       "      <td>Berkshire</td>\n",
       "      <td>Lead CRA UK</td>\n",
       "      <td>4583.33</td>\n",
       "      <td>2012-03-08 12:00:00</td>\n",
       "      <td>Health</td>\n",
       "      <td>NaN</td>\n",
       "      <td>2012-01-08 12:00:00</td>\n",
       "      <td>SEC Recruitment</td>\n",
       "      <td>1.0</td>\n",
       "    </tr>\n",
       "    <tr>\n",
       "      <th>1</th>\n",
       "      <td>Bristol</td>\n",
       "      <td>Possession Manager</td>\n",
       "      <td>2812.50</td>\n",
       "      <td>2013-09-06 12:00:00</td>\n",
       "      <td>Engineering</td>\n",
       "      <td>Permanent</td>\n",
       "      <td>2013-08-07 12:00:00</td>\n",
       "      <td>Navartis Limited</td>\n",
       "      <td>1.0</td>\n",
       "    </tr>\n",
       "    <tr>\n",
       "      <th>2</th>\n",
       "      <td>Coventry</td>\n",
       "      <td>NVQ Assessor Banking/Financial Services Salary...</td>\n",
       "      <td>1791.67</td>\n",
       "      <td>2013-05-02 00:00:00</td>\n",
       "      <td>Hospitality</td>\n",
       "      <td>Permanent</td>\n",
       "      <td>2013-02-01 00:00:00</td>\n",
       "      <td>Pertemps</td>\n",
       "      <td>1.0</td>\n",
       "    </tr>\n",
       "    <tr>\n",
       "      <th>3</th>\n",
       "      <td>Poole</td>\n",
       "      <td>HEAD OF CARE (RGN/RMN)  Poole</td>\n",
       "      <td>2916.67</td>\n",
       "      <td>2013-09-24 15:00:00</td>\n",
       "      <td>Health</td>\n",
       "      <td>NaN</td>\n",
       "      <td>2013-07-26 15:00:00</td>\n",
       "      <td>Team 24 Ltd</td>\n",
       "      <td>1.0</td>\n",
       "    </tr>\n",
       "    <tr>\n",
       "      <th>4</th>\n",
       "      <td>Woking</td>\n",
       "      <td>SQL Server DBA</td>\n",
       "      <td>3125.00</td>\n",
       "      <td>2012-12-21 12:00:00</td>\n",
       "      <td>Information Technology</td>\n",
       "      <td>NaN</td>\n",
       "      <td>2012-11-21 12:00:00</td>\n",
       "      <td>Matchtech</td>\n",
       "      <td>1.0</td>\n",
       "    </tr>\n",
       "  </tbody>\n",
       "</table>\n",
       "</div>"
      ],
      "text/plain": [
       "    Location                                          Job Title  \\\n",
       "0  Berkshire                                        Lead CRA UK   \n",
       "1    Bristol                                 Possession Manager   \n",
       "2   Coventry  NVQ Assessor Banking/Financial Services Salary...   \n",
       "3      Poole                      HEAD OF CARE (RGN/RMN)  Poole   \n",
       "4     Woking                                     SQL Server DBA   \n",
       "\n",
       "   Monthly Payment              Closing                Category       Type  \\\n",
       "0          4583.33  2012-03-08 12:00:00                  Health        NaN   \n",
       "1          2812.50  2013-09-06 12:00:00             Engineering  Permanent   \n",
       "2          1791.67  2013-05-02 00:00:00             Hospitality  Permanent   \n",
       "3          2916.67  2013-09-24 15:00:00                  Health        NaN   \n",
       "4          3125.00  2012-12-21 12:00:00  Information Technology        NaN   \n",
       "\n",
       "               Opening      Organisation  Full-Time Equivalent (FTE)  \n",
       "0  2012-01-08 12:00:00   SEC Recruitment                         1.0  \n",
       "1  2013-08-07 12:00:00  Navartis Limited                         1.0  \n",
       "2  2013-02-01 00:00:00          Pertemps                         1.0  \n",
       "3  2013-07-26 15:00:00       Team 24 Ltd                         1.0  \n",
       "4  2012-11-21 12:00:00         Matchtech                         1.0  "
      ]
     },
     "metadata": {},
     "output_type": "display_data"
    }
   ],
   "source": [
    "# Displaying the two dataframes together to compare\n",
    "print('S1:' + str(df1.shape))\n",
    "display(df1.head())\n",
    "print('S2:' + str(df2.shape))\n",
    "display(df2.head())"
   ]
  },
  {
   "cell_type": "code",
   "execution_count": 7,
   "metadata": {},
   "outputs": [
    {
     "name": "stdout",
     "output_type": "stream",
     "text": [
      "<class 'pandas.core.frame.DataFrame'>\n",
      "RangeIndex: 50751 entries, 0 to 50750\n",
      "Data columns (total 11 columns):\n",
      " #   Column        Non-Null Count  Dtype  \n",
      "---  ------        --------------  -----  \n",
      " 0   Id            50751 non-null  int64  \n",
      " 1   Title         50751 non-null  object \n",
      " 2   Category      50751 non-null  object \n",
      " 3   Open date     50751 non-null  object \n",
      " 4   Close date    50751 non-null  object \n",
      " 5   Company       50751 non-null  object \n",
      " 6   ContractTime  50751 non-null  object \n",
      " 7   ContractType  50751 non-null  object \n",
      " 8   Location      50751 non-null  object \n",
      " 9   Salary        50751 non-null  float64\n",
      " 10  Source        50751 non-null  object \n",
      "dtypes: float64(1), int64(1), object(9)\n",
      "memory usage: 4.3+ MB\n",
      "None\n",
      "<class 'pandas.core.frame.DataFrame'>\n",
      "RangeIndex: 5000 entries, 0 to 4999\n",
      "Data columns (total 9 columns):\n",
      " #   Column                      Non-Null Count  Dtype  \n",
      "---  ------                      --------------  -----  \n",
      " 0   Location                    5000 non-null   object \n",
      " 1   Job Title                   5000 non-null   object \n",
      " 2   Monthly Payment             5000 non-null   float64\n",
      " 3   Closing                     5000 non-null   object \n",
      " 4   Category                    5000 non-null   object \n",
      " 5   Type                        3593 non-null   object \n",
      " 6   Opening                     5000 non-null   object \n",
      " 7   Organisation                4531 non-null   object \n",
      " 8   Full-Time Equivalent (FTE)  5000 non-null   float64\n",
      "dtypes: float64(2), object(7)\n",
      "memory usage: 351.7+ KB\n",
      "None\n"
     ]
    }
   ],
   "source": [
    "print (df1.info())\n",
    "print (df2.info())"
   ]
  },
  {
   "cell_type": "code",
   "execution_count": 8,
   "metadata": {},
   "outputs": [],
   "source": [
    "# firstly as there are null values I will replace the empty whitespaces with 'non- specified'"
   ]
  },
  {
   "cell_type": "code",
   "execution_count": 9,
   "metadata": {},
   "outputs": [],
   "source": [
    "# I am stripping the column here because there are whitespaces in between, hence to fix this I use \n",
    "# the function strip\n",
    "\n",
    "df2['Type'] = df2['Type'].str.strip()"
   ]
  },
  {
   "cell_type": "code",
   "execution_count": 10,
   "metadata": {},
   "outputs": [],
   "source": [
    "df2['Type'] = df2['Type'].replace('', 'non-specified')"
   ]
  },
  {
   "cell_type": "code",
   "execution_count": 11,
   "metadata": {},
   "outputs": [],
   "source": [
    "df2['Type'] = df2['Type'].replace(np.nan, 'non-specified')"
   ]
  },
  {
   "cell_type": "code",
   "execution_count": 12,
   "metadata": {},
   "outputs": [
    {
     "data": {
      "text/plain": [
       "Permanent              3034\n",
       "non-specified          1407\n",
       "Fixed Term Contract     559\n",
       "Name: Type, dtype: int64"
      ]
     },
     "execution_count": 12,
     "metadata": {},
     "output_type": "execute_result"
    }
   ],
   "source": [
    "df2[\"Type\"].value_counts()"
   ]
  },
  {
   "cell_type": "code",
   "execution_count": 13,
   "metadata": {},
   "outputs": [
    {
     "name": "stdout",
     "output_type": "stream",
     "text": [
      "How many errors? 0\n"
     ]
    }
   ],
   "source": [
    "# checking if nan is filled in correctly in the whitespaces\n",
    "import math\n",
    "count = 0\n",
    "for element in df2['Type']:\n",
    "    if pd.isnull(element):\n",
    "        print(\"It is not a number\", element)\n",
    "        count += 1\n",
    "print(\"How many errors?\", count)\n",
    "\n",
    "# there are 1407 erros which is 3593-5000, hence nan is filled correctly"
   ]
  },
  {
   "cell_type": "code",
   "execution_count": 14,
   "metadata": {},
   "outputs": [
    {
     "data": {
      "text/plain": [
       "non-specified           469\n",
       "UKStaffsearch            52\n",
       "CVbrowser                34\n",
       "Randstad                 30\n",
       "Matchtech Group plc.     28\n",
       "                       ... \n",
       "Jesmond Dene House        1\n",
       "URECRUIT.                 1\n",
       "Adapt IT Recruitment      1\n",
       "IC 3e                     1\n",
       "Arqiva                    1\n",
       "Name: Organisation, Length: 2473, dtype: int64"
      ]
     },
     "execution_count": 14,
     "metadata": {},
     "output_type": "execute_result"
    }
   ],
   "source": [
    "#Using the same method\n",
    "\n",
    "df2['Organisation'] = df2['Organisation'].str.strip()\n",
    "df2['Organisation'] = df2['Organisation'].replace('', 'non- specified')\n",
    "df2['Organisation'] = df2['Organisation'].replace(np.nan, 'non-specified')\n",
    "df2[\"Organisation\"].value_counts()"
   ]
  },
  {
   "cell_type": "code",
   "execution_count": 15,
   "metadata": {},
   "outputs": [
    {
     "name": "stdout",
     "output_type": "stream",
     "text": [
      "How many errors? 0\n"
     ]
    }
   ],
   "source": [
    "# checking if nan if filled in correctly in the whitespaces\n",
    "import math\n",
    "count = 0\n",
    "for element in df2['Organisation']:\n",
    "    if pd.isnull(element):\n",
    "        print(\"It is not a number\", element)\n",
    "        count += 1\n",
    "print(\"How many errors?\", count)\n",
    "\n",
    "# there are 469 erros which is 4531-5000, hence nan is filled correctly"
   ]
  },
  {
   "cell_type": "code",
   "execution_count": 16,
   "metadata": {},
   "outputs": [
    {
     "name": "stdout",
     "output_type": "stream",
     "text": [
      "<class 'pandas.core.frame.DataFrame'>\n",
      "RangeIndex: 5000 entries, 0 to 4999\n",
      "Data columns (total 9 columns):\n",
      " #   Column                      Non-Null Count  Dtype  \n",
      "---  ------                      --------------  -----  \n",
      " 0   Location                    5000 non-null   object \n",
      " 1   Job Title                   5000 non-null   object \n",
      " 2   Monthly Payment             5000 non-null   float64\n",
      " 3   Closing                     5000 non-null   object \n",
      " 4   Category                    5000 non-null   object \n",
      " 5   Type                        5000 non-null   object \n",
      " 6   Opening                     5000 non-null   object \n",
      " 7   Organisation                5000 non-null   object \n",
      " 8   Full-Time Equivalent (FTE)  5000 non-null   float64\n",
      "dtypes: float64(2), object(7)\n",
      "memory usage: 351.7+ KB\n"
     ]
    }
   ],
   "source": [
    "df2.info()"
   ]
  },
  {
   "cell_type": "code",
   "execution_count": 17,
   "metadata": {},
   "outputs": [
    {
     "data": {
      "text/plain": [
       "Information Technology    1251\n",
       "Health                     804\n",
       "Engineering                732\n",
       "Finance                    675\n",
       "Sales                      517\n",
       "Hospitality                436\n",
       "Education                  341\n",
       "Marketing                  244\n",
       "Name: Category, dtype: int64"
      ]
     },
     "execution_count": 17,
     "metadata": {},
     "output_type": "execute_result"
    }
   ],
   "source": [
    "# checking if there are 8 categories as in df1\n",
    "\n",
    "df2[\"Category\"].value_counts()"
   ]
  },
  {
   "cell_type": "markdown",
   "metadata": {},
   "source": [
    "## Defining the initial global schema"
   ]
  },
  {
   "cell_type": "markdown",
   "metadata": {},
   "source": [
    "### I will be mentioning the what I have observed below:\n",
    "\n",
    "df1 is the dataset I have cleaned and df2 is the given dataset. \n",
    "\n",
    "1. There is no Id in df2 but there is in df1 hence, I will generate a Id for df2.\n",
    "2. Job title in df2 is similar with df1 hence, no changes in that column.\n",
    "3. Category is also mentioned in both but in df2 the categories are in a different way written which \n",
    "   will have to change according to df1.\n",
    "4. Open date and close date is similar to df2 opening and closing columns, hence no change there.\n",
    "5. Company in df1 and organisation in df2 are similar. Just in df2 as there are null values will have to change       it.\n",
    "6. Contract time in df1 and full time equivalent in df2 are similar. In full time equivalent I will change 1 as \n",
    "   full time and the other four values i.e., 0.2, 0.4, 0.6 and 0.8 as part time.  \n",
    "7. Contract type in df1 and type in df2 are similar. There are few missing values in type which I will change to\n",
    "   non-specified.\n",
    "8. Monthly payment in df2 will be converted into an annual salary as in df1.\n",
    "9. I will add a source column in df2 as how source is mentioned in df1."
   ]
  },
  {
   "cell_type": "markdown",
   "metadata": {},
   "source": [
    "### I will be working towards this schema-\n",
    "\n",
    "1. Id- A id for the job ads [int]\n",
    "2. Title- which is the job title [string]\n",
    "3. Category- there will be 8 categories [string]\n",
    "4. Open date- in the yyyy-mm-dd hh:mm:ss format [datetime]\n",
    "5. Close date- in the yyyy-mm-dd hh:mm:ss format [datetime]\n",
    "6. Company- the name of the company [string]\n",
    "7. Contract Time- whether the job is permanent, contract or non specified [string]\n",
    "8. Contract Type- whether the job is part time, full time or non specified [string]\n",
    "9. Location- the location of the job [string]\n",
    "10. Salary- the annual salary [float]\n",
    "11. Source- the main source where the job is listed [string]"
   ]
  },
  {
   "cell_type": "markdown",
   "metadata": {},
   "source": [
    "### 2. Resolving schema conflicts\n",
    "Give some general information about the conflicts you found in two schemas and steps you taken to resolve them.\n",
    "\n",
    "<span style=\"color: red\"> You might have complex notebook structure in this section, please feel free to create your own notebook structure. </span>"
   ]
  },
  {
   "cell_type": "markdown",
   "metadata": {},
   "source": [
    "#### Conflict 1: Monthly payment in df2\n",
    "General information about this conflict\n",
    "\n",
    "I will be converting monthly payment into a per annum salary as in df1\n",
    "Therefore, i will be multiplying the monthly payment with 12 months which will give the year's salary"
   ]
  },
  {
   "cell_type": "code",
   "execution_count": 18,
   "metadata": {
    "scrolled": false
   },
   "outputs": [
    {
     "data": {
      "text/plain": [
       "0    54999.96\n",
       "1    33750.00\n",
       "2    21500.04\n",
       "3    35000.04\n",
       "4    37500.00\n",
       "Name: Salary, dtype: float64"
      ]
     },
     "execution_count": 18,
     "metadata": {},
     "output_type": "execute_result"
    }
   ],
   "source": [
    "\n",
    "\n",
    "df2['Monthly Payment'] = df2['Monthly Payment'].apply(lambda x: x*12)\n",
    "\n",
    "df2.rename(columns = {'Monthly Payment':'Salary'}, inplace = True)\n",
    "\n",
    "df2['Salary'].head()"
   ]
  },
  {
   "cell_type": "markdown",
   "metadata": {},
   "source": [
    "#### Conflict 2: Category in df2\n",
    "\n",
    "I will change the category names as mentioned in df1 as both mean the same but just the names are different\n"
   ]
  },
  {
   "cell_type": "code",
   "execution_count": 19,
   "metadata": {},
   "outputs": [
    {
     "data": {
      "text/plain": [
       "Information Technology    1251\n",
       "Health                     804\n",
       "Engineering                732\n",
       "Finance                    675\n",
       "Sales                      517\n",
       "Hospitality                436\n",
       "Education                  341\n",
       "Marketing                  244\n",
       "Name: Category, dtype: int64"
      ]
     },
     "execution_count": 19,
     "metadata": {},
     "output_type": "execute_result"
    }
   ],
   "source": [
    "df2[\"Category\"].value_counts()\n"
   ]
  },
  {
   "cell_type": "code",
   "execution_count": 20,
   "metadata": {},
   "outputs": [
    {
     "data": {
      "text/plain": [
       "IT Jobs                             13170\n",
       "Healthcare & Nursing Jobs            8066\n",
       "Engineering Jobs                     7517\n",
       "Accounting & Finance Jobs            6771\n",
       "Sales Jobs                           4869\n",
       "Hospitality & Catering Jobs          4376\n",
       "Teaching Jobs                        3456\n",
       "PR, Advertising & Marketing Jobs     2526\n",
       "Name: Category, dtype: int64"
      ]
     },
     "execution_count": 20,
     "metadata": {},
     "output_type": "execute_result"
    }
   ],
   "source": [
    "df1[\"Category\"].value_counts()"
   ]
  },
  {
   "cell_type": "code",
   "execution_count": 21,
   "metadata": {},
   "outputs": [],
   "source": [
    "# I will be replacing the df2 categories with the df1 categories"
   ]
  },
  {
   "cell_type": "code",
   "execution_count": 22,
   "metadata": {},
   "outputs": [],
   "source": [
    "df2['Category'] = df2['Category'].replace('Information Technology', 'IT Jobs')"
   ]
  },
  {
   "cell_type": "code",
   "execution_count": 23,
   "metadata": {},
   "outputs": [],
   "source": [
    "df2['Category'] = df2['Category'].replace('Health', 'Healthcare & Nursing Jobs')"
   ]
  },
  {
   "cell_type": "code",
   "execution_count": 24,
   "metadata": {},
   "outputs": [],
   "source": [
    "df2['Category'] = df2['Category'].replace('Engineering', 'Engineering Jobs')"
   ]
  },
  {
   "cell_type": "code",
   "execution_count": 25,
   "metadata": {},
   "outputs": [],
   "source": [
    "df2['Category'] = df2['Category'].replace('Finance', 'Accounting & Finance Jobs')"
   ]
  },
  {
   "cell_type": "code",
   "execution_count": 26,
   "metadata": {},
   "outputs": [],
   "source": [
    "df2['Category'] = df2['Category'].replace('Sales', 'Sales Jobs')"
   ]
  },
  {
   "cell_type": "code",
   "execution_count": 27,
   "metadata": {},
   "outputs": [],
   "source": [
    "df2['Category'] = df2['Category'].replace('Hospitality', 'Hospitality & Catering Jobs')"
   ]
  },
  {
   "cell_type": "code",
   "execution_count": 28,
   "metadata": {},
   "outputs": [],
   "source": [
    "df2['Category'] = df2['Category'].replace('Education', 'Teaching Jobs')"
   ]
  },
  {
   "cell_type": "code",
   "execution_count": 29,
   "metadata": {},
   "outputs": [],
   "source": [
    "df2['Category'] = df2['Category'].replace('Marketing', 'PR, Advertising & Marketing Jobs')"
   ]
  },
  {
   "cell_type": "code",
   "execution_count": 30,
   "metadata": {},
   "outputs": [
    {
     "data": {
      "text/plain": [
       "IT Jobs                             1251\n",
       "Healthcare & Nursing Jobs            804\n",
       "Engineering Jobs                     732\n",
       "Accounting & Finance Jobs            675\n",
       "Sales Jobs                           517\n",
       "Hospitality & Catering Jobs          436\n",
       "Teaching Jobs                        341\n",
       "PR, Advertising & Marketing Jobs     244\n",
       "Name: Category, dtype: int64"
      ]
     },
     "execution_count": 30,
     "metadata": {},
     "output_type": "execute_result"
    }
   ],
   "source": [
    "df2[\"Category\"].value_counts()"
   ]
  },
  {
   "cell_type": "markdown",
   "metadata": {},
   "source": [
    "#### Conflict 3: Full- time equivalent(FTE) in df2 \n",
    "\n",
    "I will change the FTE values i.e., the other four values i.e., 0.2,0.4,0.6 and 0.8 as part time. While 1 will change as full time. \n",
    "\n"
   ]
  },
  {
   "cell_type": "code",
   "execution_count": 31,
   "metadata": {},
   "outputs": [
    {
     "data": {
      "text/plain": [
       "1.0    4857\n",
       "0.2      39\n",
       "0.8      36\n",
       "0.6      36\n",
       "0.4      32\n",
       "Name: Full-Time Equivalent (FTE), dtype: int64"
      ]
     },
     "execution_count": 31,
     "metadata": {},
     "output_type": "execute_result"
    }
   ],
   "source": [
    "df2[\"Full-Time Equivalent (FTE)\"].value_counts()"
   ]
  },
  {
   "cell_type": "code",
   "execution_count": 32,
   "metadata": {},
   "outputs": [
    {
     "data": {
      "text/plain": [
       "non-specified    38069\n",
       "full_time        11242\n",
       "part_time         1440\n",
       "Name: ContractType, dtype: int64"
      ]
     },
     "execution_count": 32,
     "metadata": {},
     "output_type": "execute_result"
    }
   ],
   "source": [
    "# just cross checking what are the value names in df1\n",
    "df1['ContractType'].value_counts()"
   ]
  },
  {
   "cell_type": "code",
   "execution_count": 33,
   "metadata": {},
   "outputs": [],
   "source": [
    "df2['Full-Time Equivalent (FTE)'] = df2['Full-Time Equivalent (FTE)'].replace(0.2, 'part_time')"
   ]
  },
  {
   "cell_type": "code",
   "execution_count": 34,
   "metadata": {},
   "outputs": [],
   "source": [
    "df2['Full-Time Equivalent (FTE)'] = df2['Full-Time Equivalent (FTE)'].replace(0.8, 'part_time')"
   ]
  },
  {
   "cell_type": "code",
   "execution_count": 35,
   "metadata": {},
   "outputs": [],
   "source": [
    "df2['Full-Time Equivalent (FTE)'] = df2['Full-Time Equivalent (FTE)'].replace(0.6, 'part_time')"
   ]
  },
  {
   "cell_type": "code",
   "execution_count": 36,
   "metadata": {},
   "outputs": [],
   "source": [
    "df2['Full-Time Equivalent (FTE)'] = df2['Full-Time Equivalent (FTE)'].replace(0.4, 'part_time')"
   ]
  },
  {
   "cell_type": "code",
   "execution_count": 37,
   "metadata": {},
   "outputs": [],
   "source": [
    "df2['Full-Time Equivalent (FTE)'] = df2['Full-Time Equivalent (FTE)'].replace(1.0, 'full_time')"
   ]
  },
  {
   "cell_type": "code",
   "execution_count": 38,
   "metadata": {},
   "outputs": [
    {
     "data": {
      "text/plain": [
       "full_time    4857\n",
       "part_time     143\n",
       "Name: Full-Time Equivalent (FTE), dtype: int64"
      ]
     },
     "execution_count": 38,
     "metadata": {},
     "output_type": "execute_result"
    }
   ],
   "source": [
    "df2[\"Full-Time Equivalent (FTE)\"].value_counts()"
   ]
  },
  {
   "cell_type": "markdown",
   "metadata": {},
   "source": [
    "#### Conflict 4: Adding a Source column in df2 \n",
    "\n",
    "I will add a source column as sources are mentioned in df1. I know the source of these job adds as they are mentioned in the aassignment specifications. \n",
    "\n"
   ]
  },
  {
   "cell_type": "code",
   "execution_count": 39,
   "metadata": {},
   "outputs": [],
   "source": [
    "df2['Source'] = \"www.jobhuntlisting.com\""
   ]
  },
  {
   "cell_type": "code",
   "execution_count": 40,
   "metadata": {},
   "outputs": [
    {
     "data": {
      "text/html": [
       "<div>\n",
       "<style scoped>\n",
       "    .dataframe tbody tr th:only-of-type {\n",
       "        vertical-align: middle;\n",
       "    }\n",
       "\n",
       "    .dataframe tbody tr th {\n",
       "        vertical-align: top;\n",
       "    }\n",
       "\n",
       "    .dataframe thead th {\n",
       "        text-align: right;\n",
       "    }\n",
       "</style>\n",
       "<table border=\"1\" class=\"dataframe\">\n",
       "  <thead>\n",
       "    <tr style=\"text-align: right;\">\n",
       "      <th></th>\n",
       "      <th>Location</th>\n",
       "      <th>Job Title</th>\n",
       "      <th>Salary</th>\n",
       "      <th>Closing</th>\n",
       "      <th>Category</th>\n",
       "      <th>Type</th>\n",
       "      <th>Opening</th>\n",
       "      <th>Organisation</th>\n",
       "      <th>Full-Time Equivalent (FTE)</th>\n",
       "      <th>Source</th>\n",
       "    </tr>\n",
       "  </thead>\n",
       "  <tbody>\n",
       "    <tr>\n",
       "      <th>0</th>\n",
       "      <td>Berkshire</td>\n",
       "      <td>Lead CRA UK</td>\n",
       "      <td>54999.96</td>\n",
       "      <td>2012-03-08 12:00:00</td>\n",
       "      <td>Healthcare &amp; Nursing Jobs</td>\n",
       "      <td>non-specified</td>\n",
       "      <td>2012-01-08 12:00:00</td>\n",
       "      <td>SEC Recruitment</td>\n",
       "      <td>full_time</td>\n",
       "      <td>www.jobhuntlisting.com</td>\n",
       "    </tr>\n",
       "    <tr>\n",
       "      <th>1</th>\n",
       "      <td>Bristol</td>\n",
       "      <td>Possession Manager</td>\n",
       "      <td>33750.00</td>\n",
       "      <td>2013-09-06 12:00:00</td>\n",
       "      <td>Engineering Jobs</td>\n",
       "      <td>Permanent</td>\n",
       "      <td>2013-08-07 12:00:00</td>\n",
       "      <td>Navartis Limited</td>\n",
       "      <td>full_time</td>\n",
       "      <td>www.jobhuntlisting.com</td>\n",
       "    </tr>\n",
       "    <tr>\n",
       "      <th>2</th>\n",
       "      <td>Coventry</td>\n",
       "      <td>NVQ Assessor Banking/Financial Services Salary...</td>\n",
       "      <td>21500.04</td>\n",
       "      <td>2013-05-02 00:00:00</td>\n",
       "      <td>Hospitality &amp; Catering Jobs</td>\n",
       "      <td>Permanent</td>\n",
       "      <td>2013-02-01 00:00:00</td>\n",
       "      <td>Pertemps</td>\n",
       "      <td>full_time</td>\n",
       "      <td>www.jobhuntlisting.com</td>\n",
       "    </tr>\n",
       "    <tr>\n",
       "      <th>3</th>\n",
       "      <td>Poole</td>\n",
       "      <td>HEAD OF CARE (RGN/RMN)  Poole</td>\n",
       "      <td>35000.04</td>\n",
       "      <td>2013-09-24 15:00:00</td>\n",
       "      <td>Healthcare &amp; Nursing Jobs</td>\n",
       "      <td>non-specified</td>\n",
       "      <td>2013-07-26 15:00:00</td>\n",
       "      <td>Team 24 Ltd</td>\n",
       "      <td>full_time</td>\n",
       "      <td>www.jobhuntlisting.com</td>\n",
       "    </tr>\n",
       "    <tr>\n",
       "      <th>4</th>\n",
       "      <td>Woking</td>\n",
       "      <td>SQL Server DBA</td>\n",
       "      <td>37500.00</td>\n",
       "      <td>2012-12-21 12:00:00</td>\n",
       "      <td>IT Jobs</td>\n",
       "      <td>non-specified</td>\n",
       "      <td>2012-11-21 12:00:00</td>\n",
       "      <td>Matchtech</td>\n",
       "      <td>full_time</td>\n",
       "      <td>www.jobhuntlisting.com</td>\n",
       "    </tr>\n",
       "    <tr>\n",
       "      <th>...</th>\n",
       "      <td>...</td>\n",
       "      <td>...</td>\n",
       "      <td>...</td>\n",
       "      <td>...</td>\n",
       "      <td>...</td>\n",
       "      <td>...</td>\n",
       "      <td>...</td>\n",
       "      <td>...</td>\n",
       "      <td>...</td>\n",
       "      <td>...</td>\n",
       "    </tr>\n",
       "    <tr>\n",
       "      <th>4995</th>\n",
       "      <td>Wirral</td>\n",
       "      <td>Registered General Nurse  Upton, Wirral</td>\n",
       "      <td>24336.00</td>\n",
       "      <td>2014-01-08 00:00:00</td>\n",
       "      <td>Healthcare &amp; Nursing Jobs</td>\n",
       "      <td>non-specified</td>\n",
       "      <td>2013-12-25 00:00:00</td>\n",
       "      <td>Time Recruitment Solutions Ltd</td>\n",
       "      <td>full_time</td>\n",
       "      <td>www.jobhuntlisting.com</td>\n",
       "    </tr>\n",
       "    <tr>\n",
       "      <th>4996</th>\n",
       "      <td>South East London</td>\n",
       "      <td>2nd line support Technician  Mac specialised</td>\n",
       "      <td>31500.00</td>\n",
       "      <td>2012-04-14 15:00:00</td>\n",
       "      <td>IT Jobs</td>\n",
       "      <td>Permanent</td>\n",
       "      <td>2012-01-15 15:00:00</td>\n",
       "      <td>Amsys</td>\n",
       "      <td>full_time</td>\n",
       "      <td>www.jobhuntlisting.com</td>\n",
       "    </tr>\n",
       "    <tr>\n",
       "      <th>4997</th>\n",
       "      <td>Boldon Colliery</td>\n",
       "      <td>Maintenance Control Engineer</td>\n",
       "      <td>45999.96</td>\n",
       "      <td>2013-06-11 12:00:00</td>\n",
       "      <td>Engineering Jobs</td>\n",
       "      <td>Permanent</td>\n",
       "      <td>2013-05-12 12:00:00</td>\n",
       "      <td>UKStaffsearch</td>\n",
       "      <td>full_time</td>\n",
       "      <td>www.jobhuntlisting.com</td>\n",
       "    </tr>\n",
       "    <tr>\n",
       "      <th>4998</th>\n",
       "      <td>Hertfordshire</td>\n",
       "      <td>Pastry Sous Chef  Top Hotel  High Volume Pastr...</td>\n",
       "      <td>27000.00</td>\n",
       "      <td>2013-12-28 15:00:00</td>\n",
       "      <td>Hospitality &amp; Catering Jobs</td>\n",
       "      <td>non-specified</td>\n",
       "      <td>2013-11-28 15:00:00</td>\n",
       "      <td>Chef Results</td>\n",
       "      <td>full_time</td>\n",
       "      <td>www.jobhuntlisting.com</td>\n",
       "    </tr>\n",
       "    <tr>\n",
       "      <th>4999</th>\n",
       "      <td>Reading</td>\n",
       "      <td>Bilingual Technical / Remote Support engineer/...</td>\n",
       "      <td>36500.04</td>\n",
       "      <td>2013-05-16 00:00:00</td>\n",
       "      <td>IT Jobs</td>\n",
       "      <td>Permanent</td>\n",
       "      <td>2013-04-16 00:00:00</td>\n",
       "      <td>Global Technology Solutions Ltd</td>\n",
       "      <td>full_time</td>\n",
       "      <td>www.jobhuntlisting.com</td>\n",
       "    </tr>\n",
       "  </tbody>\n",
       "</table>\n",
       "<p>5000 rows × 10 columns</p>\n",
       "</div>"
      ],
      "text/plain": [
       "               Location                                          Job Title  \\\n",
       "0             Berkshire                                        Lead CRA UK   \n",
       "1               Bristol                                 Possession Manager   \n",
       "2              Coventry  NVQ Assessor Banking/Financial Services Salary...   \n",
       "3                 Poole                      HEAD OF CARE (RGN/RMN)  Poole   \n",
       "4                Woking                                     SQL Server DBA   \n",
       "...                 ...                                                ...   \n",
       "4995             Wirral            Registered General Nurse  Upton, Wirral   \n",
       "4996  South East London       2nd line support Technician  Mac specialised   \n",
       "4997    Boldon Colliery                       Maintenance Control Engineer   \n",
       "4998      Hertfordshire  Pastry Sous Chef  Top Hotel  High Volume Pastr...   \n",
       "4999            Reading  Bilingual Technical / Remote Support engineer/...   \n",
       "\n",
       "        Salary              Closing                     Category  \\\n",
       "0     54999.96  2012-03-08 12:00:00    Healthcare & Nursing Jobs   \n",
       "1     33750.00  2013-09-06 12:00:00             Engineering Jobs   \n",
       "2     21500.04  2013-05-02 00:00:00  Hospitality & Catering Jobs   \n",
       "3     35000.04  2013-09-24 15:00:00    Healthcare & Nursing Jobs   \n",
       "4     37500.00  2012-12-21 12:00:00                      IT Jobs   \n",
       "...        ...                  ...                          ...   \n",
       "4995  24336.00  2014-01-08 00:00:00    Healthcare & Nursing Jobs   \n",
       "4996  31500.00  2012-04-14 15:00:00                      IT Jobs   \n",
       "4997  45999.96  2013-06-11 12:00:00             Engineering Jobs   \n",
       "4998  27000.00  2013-12-28 15:00:00  Hospitality & Catering Jobs   \n",
       "4999  36500.04  2013-05-16 00:00:00                      IT Jobs   \n",
       "\n",
       "               Type              Opening                     Organisation  \\\n",
       "0     non-specified  2012-01-08 12:00:00                  SEC Recruitment   \n",
       "1         Permanent  2013-08-07 12:00:00                 Navartis Limited   \n",
       "2         Permanent  2013-02-01 00:00:00                         Pertemps   \n",
       "3     non-specified  2013-07-26 15:00:00                      Team 24 Ltd   \n",
       "4     non-specified  2012-11-21 12:00:00                        Matchtech   \n",
       "...             ...                  ...                              ...   \n",
       "4995  non-specified  2013-12-25 00:00:00   Time Recruitment Solutions Ltd   \n",
       "4996      Permanent  2012-01-15 15:00:00                            Amsys   \n",
       "4997      Permanent  2013-05-12 12:00:00                    UKStaffsearch   \n",
       "4998  non-specified  2013-11-28 15:00:00                     Chef Results   \n",
       "4999      Permanent  2013-04-16 00:00:00  Global Technology Solutions Ltd   \n",
       "\n",
       "     Full-Time Equivalent (FTE)                  Source  \n",
       "0                     full_time  www.jobhuntlisting.com  \n",
       "1                     full_time  www.jobhuntlisting.com  \n",
       "2                     full_time  www.jobhuntlisting.com  \n",
       "3                     full_time  www.jobhuntlisting.com  \n",
       "4                     full_time  www.jobhuntlisting.com  \n",
       "...                         ...                     ...  \n",
       "4995                  full_time  www.jobhuntlisting.com  \n",
       "4996                  full_time  www.jobhuntlisting.com  \n",
       "4997                  full_time  www.jobhuntlisting.com  \n",
       "4998                  full_time  www.jobhuntlisting.com  \n",
       "4999                  full_time  www.jobhuntlisting.com  \n",
       "\n",
       "[5000 rows x 10 columns]"
      ]
     },
     "execution_count": 40,
     "metadata": {},
     "output_type": "execute_result"
    }
   ],
   "source": [
    "df2"
   ]
  },
  {
   "cell_type": "markdown",
   "metadata": {},
   "source": [
    "#### Conflict 5: Opening and closing in df2  and Open date and Close date in df1\n",
    "\n",
    "I will check these two columns and correct the type as it has to be similar to the ones- 'Open date' and 'Close date' in df1"
   ]
  },
  {
   "cell_type": "code",
   "execution_count": 41,
   "metadata": {},
   "outputs": [
    {
     "name": "stdout",
     "output_type": "stream",
     "text": [
      "<class 'pandas.core.frame.DataFrame'>\n",
      "RangeIndex: 5000 entries, 0 to 4999\n",
      "Data columns (total 10 columns):\n",
      " #   Column                      Non-Null Count  Dtype  \n",
      "---  ------                      --------------  -----  \n",
      " 0   Location                    5000 non-null   object \n",
      " 1   Job Title                   5000 non-null   object \n",
      " 2   Salary                      5000 non-null   float64\n",
      " 3   Closing                     5000 non-null   object \n",
      " 4   Category                    5000 non-null   object \n",
      " 5   Type                        5000 non-null   object \n",
      " 6   Opening                     5000 non-null   object \n",
      " 7   Organisation                5000 non-null   object \n",
      " 8   Full-Time Equivalent (FTE)  5000 non-null   object \n",
      " 9   Source                      5000 non-null   object \n",
      "dtypes: float64(1), object(9)\n",
      "memory usage: 390.8+ KB\n"
     ]
    }
   ],
   "source": [
    "df2.info()"
   ]
  },
  {
   "cell_type": "code",
   "execution_count": 42,
   "metadata": {},
   "outputs": [
    {
     "name": "stdout",
     "output_type": "stream",
     "text": [
      "<class 'pandas.core.frame.DataFrame'>\n",
      "RangeIndex: 50751 entries, 0 to 50750\n",
      "Data columns (total 11 columns):\n",
      " #   Column        Non-Null Count  Dtype  \n",
      "---  ------        --------------  -----  \n",
      " 0   Id            50751 non-null  int64  \n",
      " 1   Title         50751 non-null  object \n",
      " 2   Category      50751 non-null  object \n",
      " 3   Open date     50751 non-null  object \n",
      " 4   Close date    50751 non-null  object \n",
      " 5   Company       50751 non-null  object \n",
      " 6   ContractTime  50751 non-null  object \n",
      " 7   ContractType  50751 non-null  object \n",
      " 8   Location      50751 non-null  object \n",
      " 9   Salary        50751 non-null  float64\n",
      " 10  Source        50751 non-null  object \n",
      "dtypes: float64(1), int64(1), object(9)\n",
      "memory usage: 4.3+ MB\n"
     ]
    }
   ],
   "source": [
    "df1.info()\n",
    "\n",
    "# In the df1 info it is showing that open date and close date are not in date time format but before saving it into\n",
    "# my csv i converted it, unfortunately it turns it back to a string so will just again convert both of them\n",
    "# into date time format"
   ]
  },
  {
   "cell_type": "code",
   "execution_count": 43,
   "metadata": {},
   "outputs": [],
   "source": [
    "df1['Open date'] = pd.to_datetime(df1['Open date'])"
   ]
  },
  {
   "cell_type": "code",
   "execution_count": 44,
   "metadata": {},
   "outputs": [],
   "source": [
    "df1['Close date'] = pd.to_datetime(df1['Close date'])"
   ]
  },
  {
   "cell_type": "code",
   "execution_count": 45,
   "metadata": {},
   "outputs": [],
   "source": [
    "df2['Opening'] = pd.to_datetime(df2['Opening'])"
   ]
  },
  {
   "cell_type": "code",
   "execution_count": 46,
   "metadata": {},
   "outputs": [],
   "source": [
    "df2['Closing'] = pd.to_datetime(df2['Closing'])"
   ]
  },
  {
   "cell_type": "code",
   "execution_count": 47,
   "metadata": {},
   "outputs": [
    {
     "name": "stdout",
     "output_type": "stream",
     "text": [
      "<class 'pandas.core.frame.DataFrame'>\n",
      "RangeIndex: 50751 entries, 0 to 50750\n",
      "Data columns (total 11 columns):\n",
      " #   Column        Non-Null Count  Dtype         \n",
      "---  ------        --------------  -----         \n",
      " 0   Id            50751 non-null  int64         \n",
      " 1   Title         50751 non-null  object        \n",
      " 2   Category      50751 non-null  object        \n",
      " 3   Open date     50751 non-null  datetime64[ns]\n",
      " 4   Close date    50751 non-null  datetime64[ns]\n",
      " 5   Company       50751 non-null  object        \n",
      " 6   ContractTime  50751 non-null  object        \n",
      " 7   ContractType  50751 non-null  object        \n",
      " 8   Location      50751 non-null  object        \n",
      " 9   Salary        50751 non-null  float64       \n",
      " 10  Source        50751 non-null  object        \n",
      "dtypes: datetime64[ns](2), float64(1), int64(1), object(7)\n",
      "memory usage: 4.3+ MB\n"
     ]
    }
   ],
   "source": [
    "df1.info()"
   ]
  },
  {
   "cell_type": "code",
   "execution_count": 48,
   "metadata": {},
   "outputs": [
    {
     "name": "stdout",
     "output_type": "stream",
     "text": [
      "<class 'pandas.core.frame.DataFrame'>\n",
      "RangeIndex: 5000 entries, 0 to 4999\n",
      "Data columns (total 10 columns):\n",
      " #   Column                      Non-Null Count  Dtype         \n",
      "---  ------                      --------------  -----         \n",
      " 0   Location                    5000 non-null   object        \n",
      " 1   Job Title                   5000 non-null   object        \n",
      " 2   Salary                      5000 non-null   float64       \n",
      " 3   Closing                     5000 non-null   datetime64[ns]\n",
      " 4   Category                    5000 non-null   object        \n",
      " 5   Type                        5000 non-null   object        \n",
      " 6   Opening                     5000 non-null   datetime64[ns]\n",
      " 7   Organisation                5000 non-null   object        \n",
      " 8   Full-Time Equivalent (FTE)  5000 non-null   object        \n",
      " 9   Source                      5000 non-null   object        \n",
      "dtypes: datetime64[ns](2), float64(1), object(7)\n",
      "memory usage: 390.8+ KB\n"
     ]
    }
   ],
   "source": [
    "df2.info()"
   ]
  },
  {
   "cell_type": "markdown",
   "metadata": {},
   "source": [
    "#### Conflict 6: Creating a Id column in df2  \n",
    "\n",
    "I will create a id for the job ads in df2 as in df1 all have ids"
   ]
  },
  {
   "cell_type": "code",
   "execution_count": 49,
   "metadata": {},
   "outputs": [],
   "source": [
    "# I am creating a simple id as when I tried creating a unique id the values were even coming in negatives, hence\n",
    "# this was the best way \n",
    "\n",
    "df2[\"Id\"] = df2.index + 1"
   ]
  },
  {
   "cell_type": "code",
   "execution_count": 50,
   "metadata": {},
   "outputs": [
    {
     "data": {
      "text/html": [
       "<div>\n",
       "<style scoped>\n",
       "    .dataframe tbody tr th:only-of-type {\n",
       "        vertical-align: middle;\n",
       "    }\n",
       "\n",
       "    .dataframe tbody tr th {\n",
       "        vertical-align: top;\n",
       "    }\n",
       "\n",
       "    .dataframe thead th {\n",
       "        text-align: right;\n",
       "    }\n",
       "</style>\n",
       "<table border=\"1\" class=\"dataframe\">\n",
       "  <thead>\n",
       "    <tr style=\"text-align: right;\">\n",
       "      <th></th>\n",
       "      <th>Location</th>\n",
       "      <th>Job Title</th>\n",
       "      <th>Salary</th>\n",
       "      <th>Closing</th>\n",
       "      <th>Category</th>\n",
       "      <th>Type</th>\n",
       "      <th>Opening</th>\n",
       "      <th>Organisation</th>\n",
       "      <th>Full-Time Equivalent (FTE)</th>\n",
       "      <th>Source</th>\n",
       "      <th>Id</th>\n",
       "    </tr>\n",
       "  </thead>\n",
       "  <tbody>\n",
       "    <tr>\n",
       "      <th>0</th>\n",
       "      <td>Berkshire</td>\n",
       "      <td>Lead CRA UK</td>\n",
       "      <td>54999.96</td>\n",
       "      <td>2012-03-08 12:00:00</td>\n",
       "      <td>Healthcare &amp; Nursing Jobs</td>\n",
       "      <td>non-specified</td>\n",
       "      <td>2012-01-08 12:00:00</td>\n",
       "      <td>SEC Recruitment</td>\n",
       "      <td>full_time</td>\n",
       "      <td>www.jobhuntlisting.com</td>\n",
       "      <td>1</td>\n",
       "    </tr>\n",
       "    <tr>\n",
       "      <th>1</th>\n",
       "      <td>Bristol</td>\n",
       "      <td>Possession Manager</td>\n",
       "      <td>33750.00</td>\n",
       "      <td>2013-09-06 12:00:00</td>\n",
       "      <td>Engineering Jobs</td>\n",
       "      <td>Permanent</td>\n",
       "      <td>2013-08-07 12:00:00</td>\n",
       "      <td>Navartis Limited</td>\n",
       "      <td>full_time</td>\n",
       "      <td>www.jobhuntlisting.com</td>\n",
       "      <td>2</td>\n",
       "    </tr>\n",
       "    <tr>\n",
       "      <th>2</th>\n",
       "      <td>Coventry</td>\n",
       "      <td>NVQ Assessor Banking/Financial Services Salary...</td>\n",
       "      <td>21500.04</td>\n",
       "      <td>2013-05-02 00:00:00</td>\n",
       "      <td>Hospitality &amp; Catering Jobs</td>\n",
       "      <td>Permanent</td>\n",
       "      <td>2013-02-01 00:00:00</td>\n",
       "      <td>Pertemps</td>\n",
       "      <td>full_time</td>\n",
       "      <td>www.jobhuntlisting.com</td>\n",
       "      <td>3</td>\n",
       "    </tr>\n",
       "    <tr>\n",
       "      <th>3</th>\n",
       "      <td>Poole</td>\n",
       "      <td>HEAD OF CARE (RGN/RMN)  Poole</td>\n",
       "      <td>35000.04</td>\n",
       "      <td>2013-09-24 15:00:00</td>\n",
       "      <td>Healthcare &amp; Nursing Jobs</td>\n",
       "      <td>non-specified</td>\n",
       "      <td>2013-07-26 15:00:00</td>\n",
       "      <td>Team 24 Ltd</td>\n",
       "      <td>full_time</td>\n",
       "      <td>www.jobhuntlisting.com</td>\n",
       "      <td>4</td>\n",
       "    </tr>\n",
       "    <tr>\n",
       "      <th>4</th>\n",
       "      <td>Woking</td>\n",
       "      <td>SQL Server DBA</td>\n",
       "      <td>37500.00</td>\n",
       "      <td>2012-12-21 12:00:00</td>\n",
       "      <td>IT Jobs</td>\n",
       "      <td>non-specified</td>\n",
       "      <td>2012-11-21 12:00:00</td>\n",
       "      <td>Matchtech</td>\n",
       "      <td>full_time</td>\n",
       "      <td>www.jobhuntlisting.com</td>\n",
       "      <td>5</td>\n",
       "    </tr>\n",
       "    <tr>\n",
       "      <th>...</th>\n",
       "      <td>...</td>\n",
       "      <td>...</td>\n",
       "      <td>...</td>\n",
       "      <td>...</td>\n",
       "      <td>...</td>\n",
       "      <td>...</td>\n",
       "      <td>...</td>\n",
       "      <td>...</td>\n",
       "      <td>...</td>\n",
       "      <td>...</td>\n",
       "      <td>...</td>\n",
       "    </tr>\n",
       "    <tr>\n",
       "      <th>4995</th>\n",
       "      <td>Wirral</td>\n",
       "      <td>Registered General Nurse  Upton, Wirral</td>\n",
       "      <td>24336.00</td>\n",
       "      <td>2014-01-08 00:00:00</td>\n",
       "      <td>Healthcare &amp; Nursing Jobs</td>\n",
       "      <td>non-specified</td>\n",
       "      <td>2013-12-25 00:00:00</td>\n",
       "      <td>Time Recruitment Solutions Ltd</td>\n",
       "      <td>full_time</td>\n",
       "      <td>www.jobhuntlisting.com</td>\n",
       "      <td>4996</td>\n",
       "    </tr>\n",
       "    <tr>\n",
       "      <th>4996</th>\n",
       "      <td>South East London</td>\n",
       "      <td>2nd line support Technician  Mac specialised</td>\n",
       "      <td>31500.00</td>\n",
       "      <td>2012-04-14 15:00:00</td>\n",
       "      <td>IT Jobs</td>\n",
       "      <td>Permanent</td>\n",
       "      <td>2012-01-15 15:00:00</td>\n",
       "      <td>Amsys</td>\n",
       "      <td>full_time</td>\n",
       "      <td>www.jobhuntlisting.com</td>\n",
       "      <td>4997</td>\n",
       "    </tr>\n",
       "    <tr>\n",
       "      <th>4997</th>\n",
       "      <td>Boldon Colliery</td>\n",
       "      <td>Maintenance Control Engineer</td>\n",
       "      <td>45999.96</td>\n",
       "      <td>2013-06-11 12:00:00</td>\n",
       "      <td>Engineering Jobs</td>\n",
       "      <td>Permanent</td>\n",
       "      <td>2013-05-12 12:00:00</td>\n",
       "      <td>UKStaffsearch</td>\n",
       "      <td>full_time</td>\n",
       "      <td>www.jobhuntlisting.com</td>\n",
       "      <td>4998</td>\n",
       "    </tr>\n",
       "    <tr>\n",
       "      <th>4998</th>\n",
       "      <td>Hertfordshire</td>\n",
       "      <td>Pastry Sous Chef  Top Hotel  High Volume Pastr...</td>\n",
       "      <td>27000.00</td>\n",
       "      <td>2013-12-28 15:00:00</td>\n",
       "      <td>Hospitality &amp; Catering Jobs</td>\n",
       "      <td>non-specified</td>\n",
       "      <td>2013-11-28 15:00:00</td>\n",
       "      <td>Chef Results</td>\n",
       "      <td>full_time</td>\n",
       "      <td>www.jobhuntlisting.com</td>\n",
       "      <td>4999</td>\n",
       "    </tr>\n",
       "    <tr>\n",
       "      <th>4999</th>\n",
       "      <td>Reading</td>\n",
       "      <td>Bilingual Technical / Remote Support engineer/...</td>\n",
       "      <td>36500.04</td>\n",
       "      <td>2013-05-16 00:00:00</td>\n",
       "      <td>IT Jobs</td>\n",
       "      <td>Permanent</td>\n",
       "      <td>2013-04-16 00:00:00</td>\n",
       "      <td>Global Technology Solutions Ltd</td>\n",
       "      <td>full_time</td>\n",
       "      <td>www.jobhuntlisting.com</td>\n",
       "      <td>5000</td>\n",
       "    </tr>\n",
       "  </tbody>\n",
       "</table>\n",
       "<p>5000 rows × 11 columns</p>\n",
       "</div>"
      ],
      "text/plain": [
       "               Location                                          Job Title  \\\n",
       "0             Berkshire                                        Lead CRA UK   \n",
       "1               Bristol                                 Possession Manager   \n",
       "2              Coventry  NVQ Assessor Banking/Financial Services Salary...   \n",
       "3                 Poole                      HEAD OF CARE (RGN/RMN)  Poole   \n",
       "4                Woking                                     SQL Server DBA   \n",
       "...                 ...                                                ...   \n",
       "4995             Wirral            Registered General Nurse  Upton, Wirral   \n",
       "4996  South East London       2nd line support Technician  Mac specialised   \n",
       "4997    Boldon Colliery                       Maintenance Control Engineer   \n",
       "4998      Hertfordshire  Pastry Sous Chef  Top Hotel  High Volume Pastr...   \n",
       "4999            Reading  Bilingual Technical / Remote Support engineer/...   \n",
       "\n",
       "        Salary             Closing                     Category  \\\n",
       "0     54999.96 2012-03-08 12:00:00    Healthcare & Nursing Jobs   \n",
       "1     33750.00 2013-09-06 12:00:00             Engineering Jobs   \n",
       "2     21500.04 2013-05-02 00:00:00  Hospitality & Catering Jobs   \n",
       "3     35000.04 2013-09-24 15:00:00    Healthcare & Nursing Jobs   \n",
       "4     37500.00 2012-12-21 12:00:00                      IT Jobs   \n",
       "...        ...                 ...                          ...   \n",
       "4995  24336.00 2014-01-08 00:00:00    Healthcare & Nursing Jobs   \n",
       "4996  31500.00 2012-04-14 15:00:00                      IT Jobs   \n",
       "4997  45999.96 2013-06-11 12:00:00             Engineering Jobs   \n",
       "4998  27000.00 2013-12-28 15:00:00  Hospitality & Catering Jobs   \n",
       "4999  36500.04 2013-05-16 00:00:00                      IT Jobs   \n",
       "\n",
       "               Type             Opening                     Organisation  \\\n",
       "0     non-specified 2012-01-08 12:00:00                  SEC Recruitment   \n",
       "1         Permanent 2013-08-07 12:00:00                 Navartis Limited   \n",
       "2         Permanent 2013-02-01 00:00:00                         Pertemps   \n",
       "3     non-specified 2013-07-26 15:00:00                      Team 24 Ltd   \n",
       "4     non-specified 2012-11-21 12:00:00                        Matchtech   \n",
       "...             ...                 ...                              ...   \n",
       "4995  non-specified 2013-12-25 00:00:00   Time Recruitment Solutions Ltd   \n",
       "4996      Permanent 2012-01-15 15:00:00                            Amsys   \n",
       "4997      Permanent 2013-05-12 12:00:00                    UKStaffsearch   \n",
       "4998  non-specified 2013-11-28 15:00:00                     Chef Results   \n",
       "4999      Permanent 2013-04-16 00:00:00  Global Technology Solutions Ltd   \n",
       "\n",
       "     Full-Time Equivalent (FTE)                  Source    Id  \n",
       "0                     full_time  www.jobhuntlisting.com     1  \n",
       "1                     full_time  www.jobhuntlisting.com     2  \n",
       "2                     full_time  www.jobhuntlisting.com     3  \n",
       "3                     full_time  www.jobhuntlisting.com     4  \n",
       "4                     full_time  www.jobhuntlisting.com     5  \n",
       "...                         ...                     ...   ...  \n",
       "4995                  full_time  www.jobhuntlisting.com  4996  \n",
       "4996                  full_time  www.jobhuntlisting.com  4997  \n",
       "4997                  full_time  www.jobhuntlisting.com  4998  \n",
       "4998                  full_time  www.jobhuntlisting.com  4999  \n",
       "4999                  full_time  www.jobhuntlisting.com  5000  \n",
       "\n",
       "[5000 rows x 11 columns]"
      ]
     },
     "execution_count": 50,
     "metadata": {},
     "output_type": "execute_result"
    }
   ],
   "source": [
    "df2"
   ]
  },
  {
   "cell_type": "markdown",
   "metadata": {},
   "source": [
    "## Adapting the data types across both dataframes\n",
    "\n",
    "I will make df2 consistent with df1"
   ]
  },
  {
   "cell_type": "code",
   "execution_count": 51,
   "metadata": {},
   "outputs": [
    {
     "name": "stdout",
     "output_type": "stream",
     "text": [
      "<class 'pandas.core.frame.DataFrame'>\n",
      "RangeIndex: 50751 entries, 0 to 50750\n",
      "Data columns (total 11 columns):\n",
      " #   Column        Non-Null Count  Dtype         \n",
      "---  ------        --------------  -----         \n",
      " 0   Id            50751 non-null  int64         \n",
      " 1   Title         50751 non-null  object        \n",
      " 2   Category      50751 non-null  object        \n",
      " 3   Open date     50751 non-null  datetime64[ns]\n",
      " 4   Close date    50751 non-null  datetime64[ns]\n",
      " 5   Company       50751 non-null  object        \n",
      " 6   ContractTime  50751 non-null  object        \n",
      " 7   ContractType  50751 non-null  object        \n",
      " 8   Location      50751 non-null  object        \n",
      " 9   Salary        50751 non-null  float64       \n",
      " 10  Source        50751 non-null  object        \n",
      "dtypes: datetime64[ns](2), float64(1), int64(1), object(7)\n",
      "memory usage: 4.3+ MB\n",
      "None\n",
      "<class 'pandas.core.frame.DataFrame'>\n",
      "RangeIndex: 5000 entries, 0 to 4999\n",
      "Data columns (total 11 columns):\n",
      " #   Column                      Non-Null Count  Dtype         \n",
      "---  ------                      --------------  -----         \n",
      " 0   Location                    5000 non-null   object        \n",
      " 1   Job Title                   5000 non-null   object        \n",
      " 2   Salary                      5000 non-null   float64       \n",
      " 3   Closing                     5000 non-null   datetime64[ns]\n",
      " 4   Category                    5000 non-null   object        \n",
      " 5   Type                        5000 non-null   object        \n",
      " 6   Opening                     5000 non-null   datetime64[ns]\n",
      " 7   Organisation                5000 non-null   object        \n",
      " 8   Full-Time Equivalent (FTE)  5000 non-null   object        \n",
      " 9   Source                      5000 non-null   object        \n",
      " 10  Id                          5000 non-null   int64         \n",
      "dtypes: datetime64[ns](2), float64(1), int64(1), object(7)\n",
      "memory usage: 429.8+ KB\n",
      "None\n"
     ]
    }
   ],
   "source": [
    "print (df1.info())\n",
    "print (df2.info())"
   ]
  },
  {
   "cell_type": "code",
   "execution_count": 52,
   "metadata": {},
   "outputs": [],
   "source": [
    "# the data types are consistent hence, no changes"
   ]
  },
  {
   "cell_type": "code",
   "execution_count": 53,
   "metadata": {},
   "outputs": [],
   "source": [
    "# double checking\n",
    "for y in [c for c in df1.columns if c in df2.columns]: # common columns\n",
    "    if df1[y].dtype != df2[y].dtype:\n",
    "        print (\"Column \" + y + \"in df1: \"+ str(df1[y].dtype) + \"to\" + str(df2[y].dtype))\n",
    "        df1[y] = df1[y].astype(df2[y].dtype) "
   ]
  },
  {
   "cell_type": "code",
   "execution_count": 54,
   "metadata": {},
   "outputs": [],
   "source": [
    "# all are consistent!"
   ]
  },
  {
   "cell_type": "markdown",
   "metadata": {},
   "source": [
    "### Lastly, I will rename all df2 to df1 column names"
   ]
  },
  {
   "cell_type": "code",
   "execution_count": 55,
   "metadata": {},
   "outputs": [
    {
     "name": "stdout",
     "output_type": "stream",
     "text": [
      "<class 'pandas.core.frame.DataFrame'>\n",
      "RangeIndex: 50751 entries, 0 to 50750\n",
      "Data columns (total 11 columns):\n",
      " #   Column        Non-Null Count  Dtype         \n",
      "---  ------        --------------  -----         \n",
      " 0   Id            50751 non-null  int64         \n",
      " 1   Title         50751 non-null  object        \n",
      " 2   Category      50751 non-null  object        \n",
      " 3   Open date     50751 non-null  datetime64[ns]\n",
      " 4   Close date    50751 non-null  datetime64[ns]\n",
      " 5   Company       50751 non-null  object        \n",
      " 6   ContractTime  50751 non-null  object        \n",
      " 7   ContractType  50751 non-null  object        \n",
      " 8   Location      50751 non-null  object        \n",
      " 9   Salary        50751 non-null  float64       \n",
      " 10  Source        50751 non-null  object        \n",
      "dtypes: datetime64[ns](2), float64(1), int64(1), object(7)\n",
      "memory usage: 4.3+ MB\n",
      "None\n",
      "<class 'pandas.core.frame.DataFrame'>\n",
      "RangeIndex: 5000 entries, 0 to 4999\n",
      "Data columns (total 11 columns):\n",
      " #   Column                      Non-Null Count  Dtype         \n",
      "---  ------                      --------------  -----         \n",
      " 0   Location                    5000 non-null   object        \n",
      " 1   Job Title                   5000 non-null   object        \n",
      " 2   Salary                      5000 non-null   float64       \n",
      " 3   Closing                     5000 non-null   datetime64[ns]\n",
      " 4   Category                    5000 non-null   object        \n",
      " 5   Type                        5000 non-null   object        \n",
      " 6   Opening                     5000 non-null   datetime64[ns]\n",
      " 7   Organisation                5000 non-null   object        \n",
      " 8   Full-Time Equivalent (FTE)  5000 non-null   object        \n",
      " 9   Source                      5000 non-null   object        \n",
      " 10  Id                          5000 non-null   int64         \n",
      "dtypes: datetime64[ns](2), float64(1), int64(1), object(7)\n",
      "memory usage: 429.8+ KB\n",
      "None\n"
     ]
    }
   ],
   "source": [
    "print (df1.info())\n",
    "print (df2.info())"
   ]
  },
  {
   "cell_type": "code",
   "execution_count": 56,
   "metadata": {},
   "outputs": [],
   "source": [
    "df2.rename(columns={'Job Title': 'Title', 'Opening': 'Open date','Closing':'Close date','Organisation':'Company',\n",
    "                   'Full-Time Equivalent (FTE)':'ContractTime','Type':'ContractType'}, inplace=True)"
   ]
  },
  {
   "cell_type": "code",
   "execution_count": 57,
   "metadata": {},
   "outputs": [
    {
     "name": "stdout",
     "output_type": "stream",
     "text": [
      "<class 'pandas.core.frame.DataFrame'>\n",
      "RangeIndex: 50751 entries, 0 to 50750\n",
      "Data columns (total 11 columns):\n",
      " #   Column        Non-Null Count  Dtype         \n",
      "---  ------        --------------  -----         \n",
      " 0   Id            50751 non-null  int64         \n",
      " 1   Title         50751 non-null  object        \n",
      " 2   Category      50751 non-null  object        \n",
      " 3   Open date     50751 non-null  datetime64[ns]\n",
      " 4   Close date    50751 non-null  datetime64[ns]\n",
      " 5   Company       50751 non-null  object        \n",
      " 6   ContractTime  50751 non-null  object        \n",
      " 7   ContractType  50751 non-null  object        \n",
      " 8   Location      50751 non-null  object        \n",
      " 9   Salary        50751 non-null  float64       \n",
      " 10  Source        50751 non-null  object        \n",
      "dtypes: datetime64[ns](2), float64(1), int64(1), object(7)\n",
      "memory usage: 4.3+ MB\n",
      "None\n",
      "<class 'pandas.core.frame.DataFrame'>\n",
      "RangeIndex: 5000 entries, 0 to 4999\n",
      "Data columns (total 11 columns):\n",
      " #   Column        Non-Null Count  Dtype         \n",
      "---  ------        --------------  -----         \n",
      " 0   Location      5000 non-null   object        \n",
      " 1   Title         5000 non-null   object        \n",
      " 2   Salary        5000 non-null   float64       \n",
      " 3   Close date    5000 non-null   datetime64[ns]\n",
      " 4   Category      5000 non-null   object        \n",
      " 5   ContractType  5000 non-null   object        \n",
      " 6   Open date     5000 non-null   datetime64[ns]\n",
      " 7   Company       5000 non-null   object        \n",
      " 8   ContractTime  5000 non-null   object        \n",
      " 9   Source        5000 non-null   object        \n",
      " 10  Id            5000 non-null   int64         \n",
      "dtypes: datetime64[ns](2), float64(1), int64(1), object(7)\n",
      "memory usage: 429.8+ KB\n",
      "None\n"
     ]
    }
   ],
   "source": [
    "print (df1.info())\n",
    "print (df2.info())"
   ]
  },
  {
   "cell_type": "markdown",
   "metadata": {},
   "source": [
    "### 3. Merging data\n",
    "\n",
    "<span style=\"color: red\"> You might have complex notebook structure in this section, please feel free to create your own notebook structure. </span>"
   ]
  },
  {
   "cell_type": "code",
   "execution_count": 58,
   "metadata": {},
   "outputs": [
    {
     "name": "stdout",
     "output_type": "stream",
     "text": [
      "(55751, 11)\n"
     ]
    },
    {
     "data": {
      "text/html": [
       "<div>\n",
       "<style scoped>\n",
       "    .dataframe tbody tr th:only-of-type {\n",
       "        vertical-align: middle;\n",
       "    }\n",
       "\n",
       "    .dataframe tbody tr th {\n",
       "        vertical-align: top;\n",
       "    }\n",
       "\n",
       "    .dataframe thead th {\n",
       "        text-align: right;\n",
       "    }\n",
       "</style>\n",
       "<table border=\"1\" class=\"dataframe\">\n",
       "  <thead>\n",
       "    <tr style=\"text-align: right;\">\n",
       "      <th></th>\n",
       "      <th>Id</th>\n",
       "      <th>Title</th>\n",
       "      <th>Category</th>\n",
       "      <th>Open date</th>\n",
       "      <th>Close date</th>\n",
       "      <th>Company</th>\n",
       "      <th>ContractTime</th>\n",
       "      <th>ContractType</th>\n",
       "      <th>Location</th>\n",
       "      <th>Salary</th>\n",
       "      <th>Source</th>\n",
       "    </tr>\n",
       "  </thead>\n",
       "  <tbody>\n",
       "    <tr>\n",
       "      <th>0</th>\n",
       "      <td>69001361</td>\n",
       "      <td>CHEF DE PARTIE M STAR COTSWOLDS ****K  MANY BE...</td>\n",
       "      <td>Hospitality &amp; Catering Jobs</td>\n",
       "      <td>2013-07-14 12:00:00</td>\n",
       "      <td>2013-09-12 12:00:00</td>\n",
       "      <td>Gladstone Park Limited</td>\n",
       "      <td>permanent</td>\n",
       "      <td>non-specified</td>\n",
       "      <td>Gloucestershire</td>\n",
       "      <td>17000.00</td>\n",
       "      <td>cv-library.co.uk</td>\n",
       "    </tr>\n",
       "    <tr>\n",
       "      <th>1</th>\n",
       "      <td>69540246</td>\n",
       "      <td>Sales Manager Flooring / Interior Furnishings</td>\n",
       "      <td>Sales Jobs</td>\n",
       "      <td>2012-10-08 00:00:00</td>\n",
       "      <td>2012-12-07 00:00:00</td>\n",
       "      <td>Mitchel Maguire</td>\n",
       "      <td>permanent</td>\n",
       "      <td>non-specified</td>\n",
       "      <td>Manchester</td>\n",
       "      <td>32500.00</td>\n",
       "      <td>cv-library.co.uk</td>\n",
       "    </tr>\n",
       "    <tr>\n",
       "      <th>2</th>\n",
       "      <td>71369140</td>\n",
       "      <td>Projects Engineer  Mechanical Handling</td>\n",
       "      <td>Engineering Jobs</td>\n",
       "      <td>2012-05-14 00:00:00</td>\n",
       "      <td>2012-07-13 00:00:00</td>\n",
       "      <td>Doyen Resources Limited</td>\n",
       "      <td>permanent</td>\n",
       "      <td>non-specified</td>\n",
       "      <td>Gloucester</td>\n",
       "      <td>30000.00</td>\n",
       "      <td>cv-library.co.uk</td>\n",
       "    </tr>\n",
       "    <tr>\n",
       "      <th>3</th>\n",
       "      <td>70607805</td>\n",
       "      <td>Coded Welder / Fabricators</td>\n",
       "      <td>Engineering Jobs</td>\n",
       "      <td>2013-03-20 15:00:00</td>\n",
       "      <td>2013-04-19 15:00:00</td>\n",
       "      <td>ACER</td>\n",
       "      <td>contract</td>\n",
       "      <td>non-specified</td>\n",
       "      <td>Blackpool</td>\n",
       "      <td>26880.00</td>\n",
       "      <td>cv-library.co.uk</td>\n",
       "    </tr>\n",
       "    <tr>\n",
       "      <th>4</th>\n",
       "      <td>69750692</td>\n",
       "      <td>Events Coordinator Administration Support</td>\n",
       "      <td>PR, Advertising &amp; Marketing Jobs</td>\n",
       "      <td>2013-12-15 00:00:00</td>\n",
       "      <td>2014-02-13 00:00:00</td>\n",
       "      <td>AJ Chambers</td>\n",
       "      <td>permanent</td>\n",
       "      <td>non-specified</td>\n",
       "      <td>Basildon</td>\n",
       "      <td>22500.00</td>\n",
       "      <td>cv-library.co.uk</td>\n",
       "    </tr>\n",
       "    <tr>\n",
       "      <th>...</th>\n",
       "      <td>...</td>\n",
       "      <td>...</td>\n",
       "      <td>...</td>\n",
       "      <td>...</td>\n",
       "      <td>...</td>\n",
       "      <td>...</td>\n",
       "      <td>...</td>\n",
       "      <td>...</td>\n",
       "      <td>...</td>\n",
       "      <td>...</td>\n",
       "      <td>...</td>\n",
       "    </tr>\n",
       "    <tr>\n",
       "      <th>4995</th>\n",
       "      <td>4996</td>\n",
       "      <td>Registered General Nurse  Upton, Wirral</td>\n",
       "      <td>Healthcare &amp; Nursing Jobs</td>\n",
       "      <td>2013-12-25 00:00:00</td>\n",
       "      <td>2014-01-08 00:00:00</td>\n",
       "      <td>Time Recruitment Solutions Ltd</td>\n",
       "      <td>full_time</td>\n",
       "      <td>non-specified</td>\n",
       "      <td>Wirral</td>\n",
       "      <td>24336.00</td>\n",
       "      <td>www.jobhuntlisting.com</td>\n",
       "    </tr>\n",
       "    <tr>\n",
       "      <th>4996</th>\n",
       "      <td>4997</td>\n",
       "      <td>2nd line support Technician  Mac specialised</td>\n",
       "      <td>IT Jobs</td>\n",
       "      <td>2012-01-15 15:00:00</td>\n",
       "      <td>2012-04-14 15:00:00</td>\n",
       "      <td>Amsys</td>\n",
       "      <td>full_time</td>\n",
       "      <td>Permanent</td>\n",
       "      <td>South East London</td>\n",
       "      <td>31500.00</td>\n",
       "      <td>www.jobhuntlisting.com</td>\n",
       "    </tr>\n",
       "    <tr>\n",
       "      <th>4997</th>\n",
       "      <td>4998</td>\n",
       "      <td>Maintenance Control Engineer</td>\n",
       "      <td>Engineering Jobs</td>\n",
       "      <td>2013-05-12 12:00:00</td>\n",
       "      <td>2013-06-11 12:00:00</td>\n",
       "      <td>UKStaffsearch</td>\n",
       "      <td>full_time</td>\n",
       "      <td>Permanent</td>\n",
       "      <td>Boldon Colliery</td>\n",
       "      <td>45999.96</td>\n",
       "      <td>www.jobhuntlisting.com</td>\n",
       "    </tr>\n",
       "    <tr>\n",
       "      <th>4998</th>\n",
       "      <td>4999</td>\n",
       "      <td>Pastry Sous Chef  Top Hotel  High Volume Pastr...</td>\n",
       "      <td>Hospitality &amp; Catering Jobs</td>\n",
       "      <td>2013-11-28 15:00:00</td>\n",
       "      <td>2013-12-28 15:00:00</td>\n",
       "      <td>Chef Results</td>\n",
       "      <td>full_time</td>\n",
       "      <td>non-specified</td>\n",
       "      <td>Hertfordshire</td>\n",
       "      <td>27000.00</td>\n",
       "      <td>www.jobhuntlisting.com</td>\n",
       "    </tr>\n",
       "    <tr>\n",
       "      <th>4999</th>\n",
       "      <td>5000</td>\n",
       "      <td>Bilingual Technical / Remote Support engineer/...</td>\n",
       "      <td>IT Jobs</td>\n",
       "      <td>2013-04-16 00:00:00</td>\n",
       "      <td>2013-05-16 00:00:00</td>\n",
       "      <td>Global Technology Solutions Ltd</td>\n",
       "      <td>full_time</td>\n",
       "      <td>Permanent</td>\n",
       "      <td>Reading</td>\n",
       "      <td>36500.04</td>\n",
       "      <td>www.jobhuntlisting.com</td>\n",
       "    </tr>\n",
       "  </tbody>\n",
       "</table>\n",
       "<p>55751 rows × 11 columns</p>\n",
       "</div>"
      ],
      "text/plain": [
       "            Id                                              Title  \\\n",
       "0     69001361  CHEF DE PARTIE M STAR COTSWOLDS ****K  MANY BE...   \n",
       "1     69540246      Sales Manager Flooring / Interior Furnishings   \n",
       "2     71369140             Projects Engineer  Mechanical Handling   \n",
       "3     70607805                         Coded Welder / Fabricators   \n",
       "4     69750692          Events Coordinator Administration Support   \n",
       "...        ...                                                ...   \n",
       "4995      4996            Registered General Nurse  Upton, Wirral   \n",
       "4996      4997       2nd line support Technician  Mac specialised   \n",
       "4997      4998                       Maintenance Control Engineer   \n",
       "4998      4999  Pastry Sous Chef  Top Hotel  High Volume Pastr...   \n",
       "4999      5000  Bilingual Technical / Remote Support engineer/...   \n",
       "\n",
       "                              Category           Open date  \\\n",
       "0          Hospitality & Catering Jobs 2013-07-14 12:00:00   \n",
       "1                           Sales Jobs 2012-10-08 00:00:00   \n",
       "2                     Engineering Jobs 2012-05-14 00:00:00   \n",
       "3                     Engineering Jobs 2013-03-20 15:00:00   \n",
       "4     PR, Advertising & Marketing Jobs 2013-12-15 00:00:00   \n",
       "...                                ...                 ...   \n",
       "4995         Healthcare & Nursing Jobs 2013-12-25 00:00:00   \n",
       "4996                           IT Jobs 2012-01-15 15:00:00   \n",
       "4997                  Engineering Jobs 2013-05-12 12:00:00   \n",
       "4998       Hospitality & Catering Jobs 2013-11-28 15:00:00   \n",
       "4999                           IT Jobs 2013-04-16 00:00:00   \n",
       "\n",
       "              Close date                          Company ContractTime  \\\n",
       "0    2013-09-12 12:00:00           Gladstone Park Limited    permanent   \n",
       "1    2012-12-07 00:00:00                  Mitchel Maguire    permanent   \n",
       "2    2012-07-13 00:00:00          Doyen Resources Limited    permanent   \n",
       "3    2013-04-19 15:00:00                             ACER     contract   \n",
       "4    2014-02-13 00:00:00                      AJ Chambers    permanent   \n",
       "...                  ...                              ...          ...   \n",
       "4995 2014-01-08 00:00:00   Time Recruitment Solutions Ltd    full_time   \n",
       "4996 2012-04-14 15:00:00                            Amsys    full_time   \n",
       "4997 2013-06-11 12:00:00                    UKStaffsearch    full_time   \n",
       "4998 2013-12-28 15:00:00                     Chef Results    full_time   \n",
       "4999 2013-05-16 00:00:00  Global Technology Solutions Ltd    full_time   \n",
       "\n",
       "       ContractType           Location    Salary                  Source  \n",
       "0     non-specified    Gloucestershire  17000.00        cv-library.co.uk  \n",
       "1     non-specified         Manchester  32500.00        cv-library.co.uk  \n",
       "2     non-specified         Gloucester  30000.00        cv-library.co.uk  \n",
       "3     non-specified          Blackpool  26880.00        cv-library.co.uk  \n",
       "4     non-specified           Basildon  22500.00        cv-library.co.uk  \n",
       "...             ...                ...       ...                     ...  \n",
       "4995  non-specified             Wirral  24336.00  www.jobhuntlisting.com  \n",
       "4996      Permanent  South East London  31500.00  www.jobhuntlisting.com  \n",
       "4997      Permanent    Boldon Colliery  45999.96  www.jobhuntlisting.com  \n",
       "4998  non-specified      Hertfordshire  27000.00  www.jobhuntlisting.com  \n",
       "4999      Permanent            Reading  36500.04  www.jobhuntlisting.com  \n",
       "\n",
       "[55751 rows x 11 columns]"
      ]
     },
     "execution_count": 58,
     "metadata": {},
     "output_type": "execute_result"
    }
   ],
   "source": [
    "# Merging both the dataframes\n",
    "\n",
    "final_df = pd.concat([df1,df2])\n",
    "print (final_df.shape)\n",
    "final_df"
   ]
  },
  {
   "cell_type": "markdown",
   "metadata": {},
   "source": [
    "### 4. Resolving data conflicts:\n"
   ]
  },
  {
   "cell_type": "markdown",
   "metadata": {},
   "source": [
    "#### Conflict 1: Duplicates\n",
    "Checking the general duplicates i.e., where all the columns are exactly the same "
   ]
  },
  {
   "cell_type": "code",
   "execution_count": 59,
   "metadata": {},
   "outputs": [
    {
     "name": "stdout",
     "output_type": "stream",
     "text": [
      "There are 0 duplicate records found\n"
     ]
    },
    {
     "data": {
      "text/html": [
       "<div>\n",
       "<style scoped>\n",
       "    .dataframe tbody tr th:only-of-type {\n",
       "        vertical-align: middle;\n",
       "    }\n",
       "\n",
       "    .dataframe tbody tr th {\n",
       "        vertical-align: top;\n",
       "    }\n",
       "\n",
       "    .dataframe thead th {\n",
       "        text-align: right;\n",
       "    }\n",
       "</style>\n",
       "<table border=\"1\" class=\"dataframe\">\n",
       "  <thead>\n",
       "    <tr style=\"text-align: right;\">\n",
       "      <th></th>\n",
       "      <th>Id</th>\n",
       "      <th>Title</th>\n",
       "      <th>Category</th>\n",
       "      <th>Open date</th>\n",
       "      <th>Close date</th>\n",
       "      <th>Company</th>\n",
       "      <th>ContractTime</th>\n",
       "      <th>ContractType</th>\n",
       "      <th>Location</th>\n",
       "      <th>Salary</th>\n",
       "      <th>Source</th>\n",
       "    </tr>\n",
       "  </thead>\n",
       "  <tbody>\n",
       "  </tbody>\n",
       "</table>\n",
       "</div>"
      ],
      "text/plain": [
       "Empty DataFrame\n",
       "Columns: [Id, Title, Category, Open date, Close date, Company, ContractTime, ContractType, Location, Salary, Source]\n",
       "Index: []"
      ]
     },
     "execution_count": 59,
     "metadata": {},
     "output_type": "execute_result"
    }
   ],
   "source": [
    "duplicates = final_df[final_df.duplicated(keep=False)] # this will show all duplicated records\n",
    "print (\"There are \"+ str(len(duplicates)) + \" duplicate records found\")\n",
    "duplicates.sort_values(by=duplicates.columns.tolist()).head(10)"
   ]
  },
  {
   "cell_type": "markdown",
   "metadata": {},
   "source": [
    "#### Conflict 2: Duplicates- a detailed approach"
   ]
  },
  {
   "cell_type": "code",
   "execution_count": 60,
   "metadata": {},
   "outputs": [
    {
     "name": "stdout",
     "output_type": "stream",
     "text": [
      "There are 2 duplicate records found\n"
     ]
    },
    {
     "data": {
      "text/html": [
       "<div>\n",
       "<style scoped>\n",
       "    .dataframe tbody tr th:only-of-type {\n",
       "        vertical-align: middle;\n",
       "    }\n",
       "\n",
       "    .dataframe tbody tr th {\n",
       "        vertical-align: top;\n",
       "    }\n",
       "\n",
       "    .dataframe thead th {\n",
       "        text-align: right;\n",
       "    }\n",
       "</style>\n",
       "<table border=\"1\" class=\"dataframe\">\n",
       "  <thead>\n",
       "    <tr style=\"text-align: right;\">\n",
       "      <th></th>\n",
       "      <th>Id</th>\n",
       "      <th>Title</th>\n",
       "      <th>Category</th>\n",
       "      <th>Open date</th>\n",
       "      <th>Close date</th>\n",
       "      <th>Company</th>\n",
       "      <th>ContractTime</th>\n",
       "      <th>ContractType</th>\n",
       "      <th>Location</th>\n",
       "      <th>Salary</th>\n",
       "      <th>Source</th>\n",
       "    </tr>\n",
       "  </thead>\n",
       "  <tbody>\n",
       "    <tr>\n",
       "      <th>47717</th>\n",
       "      <td>71088642</td>\n",
       "      <td>Head of Income Services</td>\n",
       "      <td>Accounting &amp; Finance Jobs</td>\n",
       "      <td>2013-05-23 12:00:00</td>\n",
       "      <td>2013-07-22 12:00:00</td>\n",
       "      <td>Page Personnel</td>\n",
       "      <td>permanent</td>\n",
       "      <td>non-specified</td>\n",
       "      <td>Nottingham</td>\n",
       "      <td>46500.0</td>\n",
       "      <td>jobsincredit.com</td>\n",
       "    </tr>\n",
       "    <tr>\n",
       "      <th>47769</th>\n",
       "      <td>69081219</td>\n",
       "      <td>Head of Income Services</td>\n",
       "      <td>Accounting &amp; Finance Jobs</td>\n",
       "      <td>2013-05-23 12:00:00</td>\n",
       "      <td>2013-07-22 12:00:00</td>\n",
       "      <td>Page Personnel.</td>\n",
       "      <td>permanent</td>\n",
       "      <td>non-specified</td>\n",
       "      <td>Nottingham</td>\n",
       "      <td>46500.0</td>\n",
       "      <td>jobsincredit.com</td>\n",
       "    </tr>\n",
       "  </tbody>\n",
       "</table>\n",
       "</div>"
      ],
      "text/plain": [
       "             Id                    Title                   Category  \\\n",
       "47717  71088642  Head of Income Services  Accounting & Finance Jobs   \n",
       "47769  69081219  Head of Income Services  Accounting & Finance Jobs   \n",
       "\n",
       "                Open date          Close date          Company ContractTime  \\\n",
       "47717 2013-05-23 12:00:00 2013-07-22 12:00:00   Page Personnel    permanent   \n",
       "47769 2013-05-23 12:00:00 2013-07-22 12:00:00  Page Personnel.    permanent   \n",
       "\n",
       "        ContractType    Location   Salary            Source  \n",
       "47717  non-specified  Nottingham  46500.0  jobsincredit.com  \n",
       "47769  non-specified  Nottingham  46500.0  jobsincredit.com  "
      ]
     },
     "execution_count": 60,
     "metadata": {},
     "output_type": "execute_result"
    }
   ],
   "source": [
    "cols = ['Title','ContractTime','Source'] \n",
    "duplicates = final_df[final_df.duplicated(cols,keep=False)]\n",
    "print (\"There are \"+ str(len(duplicates)) + \" duplicate records found\")\n",
    "duplicates.sort_values(by=cols).head(10)"
   ]
  },
  {
   "cell_type": "code",
   "execution_count": 61,
   "metadata": {},
   "outputs": [
    {
     "data": {
      "text/plain": [
       "(55751, 11)"
      ]
     },
     "execution_count": 61,
     "metadata": {},
     "output_type": "execute_result"
    }
   ],
   "source": [
    "# As all the other columns except the Id column is different, I will drop the extra row of information. \n",
    "\n",
    "final_df.shape"
   ]
  },
  {
   "cell_type": "markdown",
   "metadata": {},
   "source": [
    "Tell me about how you fix the conflict here"
   ]
  },
  {
   "cell_type": "code",
   "execution_count": 62,
   "metadata": {},
   "outputs": [
    {
     "data": {
      "text/plain": [
       "(55750, 11)"
      ]
     },
     "execution_count": 62,
     "metadata": {},
     "output_type": "execute_result"
    }
   ],
   "source": [
    "# Code to fix the conflict- I dropped the row which has duplicate values\n",
    "\n",
    "final_df = final_df.drop(final_df.index[47769])\n",
    "\n",
    "# checking if only one has been dropped or not\n",
    "\n",
    "final_df.shape"
   ]
  },
  {
   "cell_type": "markdown",
   "metadata": {},
   "source": [
    "#### Finding global key for the data\n"
   ]
  },
  {
   "cell_type": "code",
   "execution_count": 63,
   "metadata": {},
   "outputs": [],
   "source": [
    "\n",
    "# The global key is the 'Title','ContractTime' and 'Source'. \n",
    "# As a job listing from a particular source will only have one title and a specific contract time. These can be\n",
    "# considered as a unique identifier's combination for this dataset and domain. \n",
    "# Therefore, I checked for duplicates using these global keys.  \n"
   ]
  },
  {
   "cell_type": "markdown",
   "metadata": {},
   "source": [
    "### 5. Saving the integrated and reshaped data\n",
    "The last part of the integration process is to export our output data to csv format, named as:\n",
    "- '\\<student\\_id\\>_dataset_integrated.csv'"
   ]
  },
  {
   "cell_type": "code",
   "execution_count": 64,
   "metadata": {},
   "outputs": [],
   "source": [
    "# saving the integrated data- using index = False as an unnamed column with an index gets added otherwise.\n",
    "\n",
    "final_df.to_csv('s3912063_dataset_integrated.csv',index= False)"
   ]
  },
  {
   "cell_type": "markdown",
   "metadata": {},
   "source": [
    "## Summary of the Assessment Task\n",
    "This task taught me how to integrate two datasets smoothly. I am happy that I learnt such an important task as I am sure this will be very handy for my future job role. "
   ]
  }
 ],
 "metadata": {
  "kernelspec": {
   "display_name": "Python 3",
   "language": "python",
   "name": "python3"
  },
  "language_info": {
   "codemirror_mode": {
    "name": "ipython",
    "version": 3
   },
   "file_extension": ".py",
   "mimetype": "text/x-python",
   "name": "python",
   "nbconvert_exporter": "python",
   "pygments_lexer": "ipython3",
   "version": "3.8.5"
  }
 },
 "nbformat": 4,
 "nbformat_minor": 1
}
